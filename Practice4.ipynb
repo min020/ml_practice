{
  "nbformat": 4,
  "nbformat_minor": 0,
  "metadata": {
    "colab": {
      "name": "Practice4.ipynb",
      "provenance": [],
      "collapsed_sections": [],
      "authorship_tag": "ABX9TyPRnvojjQG4OLesI7b/K6UU",
      "include_colab_link": true
    },
    "kernelspec": {
      "display_name": "Python 3",
      "name": "python3"
    },
    "language_info": {
      "name": "python"
    }
  },
  "cells": [
    {
      "cell_type": "markdown",
      "metadata": {
        "id": "view-in-github",
        "colab_type": "text"
      },
      "source": [
        "<a href=\"https://colab.research.google.com/github/min020/ml_practice/blob/main/Practice4.ipynb\" target=\"_parent\"><img src=\"https://colab.research.google.com/assets/colab-badge.svg\" alt=\"Open In Colab\"/></a>"
      ]
    },
    {
      "cell_type": "markdown",
      "metadata": {
        "id": "BfOE6DBEBRvo"
      },
      "source": [
        "##2017250004 김민규"
      ]
    },
    {
      "cell_type": "markdown",
      "metadata": {
        "id": "qlBA9mzTBW1D"
      },
      "source": [
        "#1. 로지스틱 회귀 구현"
      ]
    },
    {
      "cell_type": "markdown",
      "metadata": {
        "id": "EiL0B2VuJSbx"
      },
      "source": [
        "코드 작성에 있어서 기본 설정이다."
      ]
    },
    {
      "cell_type": "code",
      "metadata": {
        "id": "5jR4QrQiBIxr"
      },
      "source": [
        "# 파이썬 ≥3.5 필수\n",
        "import sys\n",
        "assert sys.version_info >= (3, 5)\n",
        "\n",
        "# 사이킷런 ≥0.20 필수\n",
        "import sklearn\n",
        "assert sklearn.__version__ >= \"0.20\"\n",
        "\n",
        "# 공통 모듈 임포트\n",
        "import numpy as np\n",
        "import pandas as pd\n",
        "import os\n",
        "\n",
        "# 노트북 실행 결과를 동일하게 유지하기 위해\n",
        "np.random.seed(42)\n",
        "\n",
        "# 깔끔한 그래프 출력을 위해\n",
        "%matplotlib inline\n",
        "import matplotlib as mpl\n",
        "import matplotlib.pyplot as plt\n",
        "mpl.rc('axes', labelsize=14)\n",
        "mpl.rc('xtick', labelsize=12)\n",
        "mpl.rc('ytick', labelsize=12)"
      ],
      "execution_count": 1,
      "outputs": []
    },
    {
      "cell_type": "markdown",
      "metadata": {
        "id": "zzZNgIAyF2tn"
      },
      "source": [
        "##데이터 불러오기"
      ]
    },
    {
      "cell_type": "markdown",
      "metadata": {
        "id": "0i30GcmwiOj7"
      },
      "source": [
        "사이킷런이 기본으로 제공하는 붓꽃 데이터를 가져온다"
      ]
    },
    {
      "cell_type": "code",
      "metadata": {
        "id": "Z5NAi26WJgBp"
      },
      "source": [
        "from sklearn import datasets\n",
        "iris = datasets.load_iris()"
      ],
      "execution_count": 2,
      "outputs": []
    },
    {
      "cell_type": "code",
      "metadata": {
        "id": "m7IhUTnLJjLQ"
      },
      "source": [
        "X = iris[\"data\"][:, (2, 3)]  # 꽃잎 길이, 꽃잎 넓이\n",
        "y = (iris[\"target\"] == 2).astype(np.int)  # 버지니카(Virginica) 품종일 때 1(양성)"
      ],
      "execution_count": 3,
      "outputs": []
    },
    {
      "cell_type": "code",
      "metadata": {
        "id": "9QhVtZRFseqG"
      },
      "source": [
        "X_with_bias = np.c_[np.ones([len(X), 1]), X]   #특성에 편향 추가"
      ],
      "execution_count": 4,
      "outputs": []
    },
    {
      "cell_type": "code",
      "metadata": {
        "id": "IwNDMTjxoaKP"
      },
      "source": [
        "test_ratio = 0.2                                         # 테스트 세트 비율 = 20%\n",
        "validation_ratio = 0.2                                   # 검증 세트 비율 = 20%\n",
        "total_size = len(X_with_bias)                            # 전체 데이터셋 크기\n",
        "\n",
        "test_size = int(total_size * test_ratio)                 # 테스트 세트 크기: 전체의 20%\n",
        "validation_size = int(total_size * validation_ratio)     # 검증 세트 크기: 전체의 20%\n",
        "train_size = total_size - test_size - validation_size    # 훈련 세트 크기: 전체의 60%\n",
        "\n",
        "rnd_indices = np.random.permutation(total_size)"
      ],
      "execution_count": 5,
      "outputs": []
    },
    {
      "cell_type": "markdown",
      "metadata": {
        "id": "3g_G4ggzGLXc"
      },
      "source": [
        "예측 타겟과 연산이 잘 이뤄지도록 타겟의 어레이 형태를 미리 바꿔준다."
      ]
    },
    {
      "cell_type": "code",
      "metadata": {
        "id": "UQEc-NPnogeU"
      },
      "source": [
        "X_train = X_with_bias[rnd_indices[:train_size]]\n",
        "y_train = y[rnd_indices[:train_size]]\n",
        "y_train = y_train.reshape(len(y_train), 1)\n",
        "\n",
        "X_valid = X_with_bias[rnd_indices[train_size:-test_size]]\n",
        "y_valid = y[rnd_indices[train_size:-test_size]]\n",
        "y_valid = y_valid.reshape(len(y_valid), 1)\n",
        "\n",
        "\n",
        "X_test = X_with_bias[rnd_indices[-test_size:]]\n",
        "y_test = y[rnd_indices[-test_size:]]\n",
        "y_test = y_test.reshape(len(y_test), 1)"
      ],
      "execution_count": 6,
      "outputs": []
    },
    {
      "cell_type": "markdown",
      "metadata": {
        "id": "_z0gaTTortWd"
      },
      "source": [
        "##로지스틱 회귀 함수 구현"
      ]
    },
    {
      "cell_type": "markdown",
      "metadata": {
        "id": "o_vvWwR-Gm2G"
      },
      "source": [
        "시그모이드 함수를 정의한다."
      ]
    },
    {
      "cell_type": "code",
      "metadata": {
        "id": "GeKRCkC5fhnp"
      },
      "source": [
        "def sigmoid(x):\n",
        "    return 1/(1+np.exp(-1 * x))"
      ],
      "execution_count": 7,
      "outputs": []
    },
    {
      "cell_type": "markdown",
      "metadata": {
        "id": "zqDl8e9_GqSW"
      },
      "source": [
        "조기종료와 경사 하강법을 이용한 로지스틱 회귀 모델이다. 인자로 훈련세트, 검증세트, 훈련타겟, 검증타겟, 학습률, 에포크 수, 알파(규제정도)를 넣는다. 최종적으로 학습된 세타값이 나오게 된다."
      ]
    },
    {
      "cell_type": "code",
      "metadata": {
        "id": "XsK2baqBDvQa"
      },
      "source": [
        "def custom_logistic(x_t, x_v, y_t, y_v, e, iter, alpha):\n",
        "  epsilon = 1e-7\n",
        "  best_loss = np.infty\n",
        "  best_theta = np.array([])    #학습된 세타\n",
        "  Theta = np.random.randn(x_t.shape[1], 1) * 0.01  #특성 개수 만큼 랜덤한 값의 세타 생성\n",
        "  count = 0\n",
        "\n",
        "  for iteration in range(iter):     \n",
        "      logits = x_t.dot(Theta)   #훈련세트로 모델 훈련\n",
        "      Y_proba = sigmoid(logits)\n",
        "      Y_proba = Y_proba.reshape(len(Y_proba), 1)\n",
        "\n",
        "      error = Y_proba - y_t     #그레디언트 계산\n",
        "      gradients = 1/len(x_t) * x_t.T.dot(error) + np.r_[np.zeros([1, 1]), alpha * Theta[1:]]  #편향에는 규제를 적용하지 않음\n",
        "      Theta = Theta - e * gradients   #세타값 수정\n",
        "\n",
        "      #검증세트로 비용함수 계산\n",
        "      logits = x_v.dot(Theta)\n",
        "      Y_proba1 = sigmoid(logits)\n",
        "      Y_proba1 = Y_proba1.reshape(len(Y_proba1), 1)\n",
        "\n",
        "      logistic_loss = -1/len(x_v) * (np.sum((y_v * np.log(Y_proba1 + epsilon) + (1 - y_v) * np.log(1 - Y_proba1 + epsilon))))  #로지스틱 회귀의 비용함수\n",
        "      l2_loss = 1/2 * np.sum(np.square(Theta[1:]))   #릿지 규제\n",
        "      loss = logistic_loss + alpha * l2_loss  #규제를 적용한 손실비용\n",
        "\n",
        "      if iteration % 500 == 0:    #500에포크마다 손실비용 출력\n",
        "          print(iteration, loss)\n",
        "\n",
        "      if loss < best_loss:   #현재 손실비용이 전 에포크의 손실비용보다 좋으면 세타와 손실비용, 몇 에포크인지 저장\n",
        "          best_loss = loss\n",
        "          update_theta = Theta\n",
        "          best_iteration = iteration\n",
        "      else:\n",
        "          count = count + 1     #훈련이 너무 빨리 종료되지 않도록 비용함수가 증가하는 시점부터 500에포크 만큼 여유를 더 줌\n",
        "          if count == 500:\n",
        "            print(best_iteration, best_loss)\n",
        "            print(iteration, loss, \"조기 종료!\")\n",
        "            best_theta = update_theta\n",
        "            break\n",
        "      if iteration == 5000:\n",
        "          best_theta = update_theta\n",
        "  return best_theta"
      ],
      "execution_count": 8,
      "outputs": []
    },
    {
      "cell_type": "code",
      "metadata": {
        "colab": {
          "base_uri": "https://localhost:8080/"
        },
        "id": "-QprvK-GDT2K",
        "outputId": "42a6049f-170c-47e2-de03-9ad10d966d33"
      },
      "source": [
        "best_theta = custom_logistic(X_train, X_valid, y_train, y_valid, 0.1, 5001, 0.1)"
      ],
      "execution_count": 9,
      "outputs": [
        {
          "output_type": "stream",
          "text": [
            "0 0.6984142121443112\n",
            "500 0.4045324104243425\n",
            "1000 0.37920391705757733\n",
            "1500 0.3720839518764778\n",
            "2000 0.36945183448390084\n",
            "2500 0.3683427597755818\n",
            "3000 0.3678338314981391\n",
            "3500 0.36758401130785656\n",
            "4000 0.36745395113584906\n",
            "4500 0.3673825839369891\n",
            "5000 0.36734158093750957\n"
          ],
          "name": "stdout"
        }
      ]
    },
    {
      "cell_type": "markdown",
      "metadata": {
        "id": "JXYEmvZDpL6t"
      },
      "source": [
        "정확도를 출력하는 함수이다."
      ]
    },
    {
      "cell_type": "code",
      "metadata": {
        "id": "nEQ_z-yD4JMt"
      },
      "source": [
        "def score(x, y, theta):\n",
        "  logits = x.dot(theta)              \n",
        "  Y_proba = sigmoid(logits)\n",
        "  y_predict = np.array([])\n",
        "  for i in Y_proba:\n",
        "    if i < 0.5:\n",
        "      y_predict = np.append(y_predict, np.array([0]))\n",
        "    else:\n",
        "      y_predict = np.append(y_predict, np.array([1]))\n",
        "  y_predict = y_predict.reshape(len(Y_proba), 1)\n",
        "\n",
        "  accuracy_score = np.mean(y_predict == y)\n",
        "\n",
        "  return accuracy_score"
      ],
      "execution_count": 10,
      "outputs": []
    },
    {
      "cell_type": "markdown",
      "metadata": {
        "id": "f5cdOMcZiiWe"
      },
      "source": [
        "붓꽃의 길이와 넓이로 버지니카인지 이진분류하는 정확도이다."
      ]
    },
    {
      "cell_type": "code",
      "metadata": {
        "colab": {
          "base_uri": "https://localhost:8080/"
        },
        "id": "aIZ3fSXCE7-T",
        "outputId": "b4506565-55f5-40d8-df0e-713d1be83001"
      },
      "source": [
        "score(X_test, y_test, best_theta)"
      ],
      "execution_count": 11,
      "outputs": [
        {
          "output_type": "execute_result",
          "data": {
            "text/plain": [
              "0.9666666666666667"
            ]
          },
          "metadata": {
            "tags": []
          },
          "execution_count": 11
        }
      ]
    },
    {
      "cell_type": "markdown",
      "metadata": {
        "id": "adEUK00MlZkQ"
      },
      "source": [
        "사이킷런에서 제공하는 로지스틱 회귀 모델과 비교를 해본다."
      ]
    },
    {
      "cell_type": "code",
      "metadata": {
        "colab": {
          "base_uri": "https://localhost:8080/"
        },
        "id": "VMPfFb9198fX",
        "outputId": "b9f8cfef-f3a7-4f06-effc-45ecce2fb0da"
      },
      "source": [
        "from sklearn.linear_model import LogisticRegression\n",
        "log_reg = LogisticRegression(solver=\"lbfgs\", random_state=42)\n",
        "log_reg.fit(X_train, y_train)"
      ],
      "execution_count": 12,
      "outputs": [
        {
          "output_type": "stream",
          "text": [
            "/usr/local/lib/python3.7/dist-packages/sklearn/utils/validation.py:760: DataConversionWarning: A column-vector y was passed when a 1d array was expected. Please change the shape of y to (n_samples, ), for example using ravel().\n",
            "  y = column_or_1d(y, warn=True)\n"
          ],
          "name": "stderr"
        },
        {
          "output_type": "execute_result",
          "data": {
            "text/plain": [
              "LogisticRegression(C=1.0, class_weight=None, dual=False, fit_intercept=True,\n",
              "                   intercept_scaling=1, l1_ratio=None, max_iter=100,\n",
              "                   multi_class='auto', n_jobs=None, penalty='l2',\n",
              "                   random_state=42, solver='lbfgs', tol=0.0001, verbose=0,\n",
              "                   warm_start=False)"
            ]
          },
          "metadata": {
            "tags": []
          },
          "execution_count": 12
        }
      ]
    },
    {
      "cell_type": "code",
      "metadata": {
        "colab": {
          "base_uri": "https://localhost:8080/"
        },
        "id": "5XxXjWtiKKyS",
        "outputId": "eb596001-a2d0-4cbf-e6e9-33184026d356"
      },
      "source": [
        "from sklearn.metrics import accuracy_score\n",
        "y_pred = log_reg.predict(X_test)\n",
        "accuracy_score(y_test, y_pred)"
      ],
      "execution_count": 13,
      "outputs": [
        {
          "output_type": "execute_result",
          "data": {
            "text/plain": [
              "0.9666666666666667"
            ]
          },
          "metadata": {
            "tags": []
          },
          "execution_count": 13
        }
      ]
    },
    {
      "cell_type": "markdown",
      "metadata": {
        "id": "-A-3uYqeldD6"
      },
      "source": [
        "성능이 똑같이 구현됐다."
      ]
    },
    {
      "cell_type": "markdown",
      "metadata": {
        "id": "JV4WEJw-gn8S"
      },
      "source": [
        "#2. 일대다 방식을 적용한 로지스틱 회귀 다중 클래스 분류"
      ]
    },
    {
      "cell_type": "markdown",
      "metadata": {
        "id": "b75PExYar9HF"
      },
      "source": [
        "##데이터 불러오기"
      ]
    },
    {
      "cell_type": "markdown",
      "metadata": {
        "id": "68MfSyP-iwYQ"
      },
      "source": [
        "1번과 같이 붓꽃 데이터를 다시 불러온다."
      ]
    },
    {
      "cell_type": "code",
      "metadata": {
        "id": "0J_b_5IgZbgV"
      },
      "source": [
        "X = iris[\"data\"][:, (2, 3)]  # 꽃잎 길이, 꽃잎 넓이\n",
        "y = iris[\"target\"]   #모든 꽃잎 종류"
      ],
      "execution_count": 14,
      "outputs": []
    },
    {
      "cell_type": "code",
      "metadata": {
        "id": "xN0mGBWXZbgb"
      },
      "source": [
        "X_with_bias = np.c_[np.ones([len(X), 1]), X]    #특성에 편향 추가"
      ],
      "execution_count": 15,
      "outputs": []
    },
    {
      "cell_type": "code",
      "metadata": {
        "id": "dUTqBTUuZbgc"
      },
      "source": [
        "test_ratio = 0.2                                         # 테스트 세트 비율 = 20%\n",
        "validation_ratio = 0.2                                   # 검증 세트 비율 = 20%\n",
        "total_size = len(X_with_bias)                            # 전체 데이터셋 크기\n",
        "\n",
        "test_size = int(total_size * test_ratio)                 # 테스트 세트 크기: 전체의 20%\n",
        "validation_size = int(total_size * validation_ratio)     # 검증 세트 크기: 전체의 20%\n",
        "train_size = total_size - test_size - validation_size    # 훈련 세트 크기: 전체의 60%\n",
        "\n",
        "rnd_indices = np.random.permutation(total_size)"
      ],
      "execution_count": 16,
      "outputs": []
    },
    {
      "cell_type": "code",
      "metadata": {
        "id": "noTZgNsaZbgc"
      },
      "source": [
        "X_train = X_with_bias[rnd_indices[:train_size]]\n",
        "y_train = y[rnd_indices[:train_size]]\n",
        "\n",
        "X_valid = X_with_bias[rnd_indices[train_size:-test_size]]\n",
        "y_valid = y[rnd_indices[train_size:-test_size]]\n",
        "\n",
        "\n",
        "X_test = X_with_bias[rnd_indices[-test_size:]]\n",
        "y_test = y[rnd_indices[-test_size:]]"
      ],
      "execution_count": 17,
      "outputs": []
    },
    {
      "cell_type": "code",
      "metadata": {
        "colab": {
          "base_uri": "https://localhost:8080/"
        },
        "id": "NG625dyqtgPp",
        "outputId": "80d81b55-a0db-441a-a4d4-82462866863d"
      },
      "source": [
        "y_train[:5]"
      ],
      "execution_count": 18,
      "outputs": [
        {
          "output_type": "execute_result",
          "data": {
            "text/plain": [
              "array([0, 0, 2, 0, 0])"
            ]
          },
          "metadata": {
            "tags": []
          },
          "execution_count": 18
        }
      ]
    },
    {
      "cell_type": "markdown",
      "metadata": {
        "id": "BINgYoAcsPO2"
      },
      "source": [
        "타겟이 범주형으로 표현 되어 있으므로 원핫인코딩을 수행한다."
      ]
    },
    {
      "cell_type": "code",
      "metadata": {
        "id": "HTVrnYLqjlcz"
      },
      "source": [
        "def to_one_hot(y):\n",
        "    n_classes = y.max() + 1                 # 클래스 수\n",
        "    m = len(y)                              # 샘플 수\n",
        "    Y_one_hot = np.zeros((m, n_classes))    # (샘플 수, 클래스 수) 0-벡터 생성\n",
        "    Y_one_hot[np.arange(m), y] = 1          # 샘플 별로 해당 클래스의 값만 1로 변경. (넘파이 인덱싱 활용)\n",
        "    return Y_one_hot"
      ],
      "execution_count": 19,
      "outputs": []
    },
    {
      "cell_type": "markdown",
      "metadata": {
        "id": "m-8m3QVci6B3"
      },
      "source": [
        "원핫인코딩이 잘 이뤄졌는지 확인한다."
      ]
    },
    {
      "cell_type": "code",
      "metadata": {
        "colab": {
          "base_uri": "https://localhost:8080/"
        },
        "id": "K0dxPl-2jmec",
        "outputId": "8342d20d-4617-4426-fb8b-39a986b7ef18"
      },
      "source": [
        "to_one_hot(y_train[:5])"
      ],
      "execution_count": 20,
      "outputs": [
        {
          "output_type": "execute_result",
          "data": {
            "text/plain": [
              "array([[1., 0., 0.],\n",
              "       [1., 0., 0.],\n",
              "       [0., 0., 1.],\n",
              "       [1., 0., 0.],\n",
              "       [1., 0., 0.]])"
            ]
          },
          "metadata": {
            "tags": []
          },
          "execution_count": 20
        }
      ]
    },
    {
      "cell_type": "code",
      "metadata": {
        "id": "AP3uGk9tlEb6"
      },
      "source": [
        "Y_train_one_hot = to_one_hot(y_train)\n",
        "Y_valid_one_hot = to_one_hot(y_valid)\n",
        "Y_test_one_hot = to_one_hot(y_test)"
      ],
      "execution_count": 21,
      "outputs": []
    },
    {
      "cell_type": "code",
      "metadata": {
        "id": "fgwpREN_Zbgc"
      },
      "source": [
        "n_inputs = X_train.shape[1]    #세타 생성시 필요한 변수"
      ],
      "execution_count": 22,
      "outputs": []
    },
    {
      "cell_type": "markdown",
      "metadata": {
        "id": "KMWfX_STufuj"
      },
      "source": [
        "##다중 클래스 분류"
      ]
    },
    {
      "cell_type": "markdown",
      "metadata": {
        "id": "otW5lxGOwyK2"
      },
      "source": [
        "1번에서 구현한 로지스틱 회귀를 클래스 수에 맞게 3번 반복 실행한다. 최종적으로는 각 클래스별로 학습된 세타 값이 나온다."
      ]
    },
    {
      "cell_type": "code",
      "metadata": {
        "colab": {
          "base_uri": "https://localhost:8080/"
        },
        "id": "HosdZv1DZbgd",
        "outputId": "bf83baf0-6db8-4f25-b1c2-db8adcc8edac"
      },
      "source": [
        "eta = 0.1\n",
        "n_iterations = 5001\n",
        "m = len(X_train)\n",
        "epsilon = 1e-7\n",
        "alpha = 0.1            \n",
        "best_loss = np.infty   \n",
        "best_theta = np.array([])\n",
        "count = 0\n",
        "\n",
        "for i in range(Y_train_one_hot.shape[1]):   #클래스 수 만큼 반복\n",
        "    Theta = np.random.randn(n_inputs, 1)\n",
        "    train_labels = np.array([])    #클래스별 타겟을 순서대로 저장\n",
        "    valid_labels = np.array([])\n",
        "    for j in range(len(Y_train_one_hot)):\n",
        "        train_labels = np.append(train_labels, np.array([Y_train_one_hot[j][i]]))\n",
        "    for k in range(len(Y_valid_one_hot)):\n",
        "        valid_labels = np.append(valid_labels, np.array([Y_valid_one_hot[k][i]]))\n",
        "\n",
        "    train_labels = train_labels.reshape(len(train_labels), 1)\n",
        "    valid_labels = valid_labels.reshape(len(valid_labels), 1)\n",
        "\n",
        "    for iteration in range(n_iterations):     \n",
        "        logits = X_train.dot(Theta)\n",
        "        Y_proba = sigmoid(logits)\n",
        "        Y_proba = Y_proba.reshape(len(Y_proba), 1)\n",
        "\n",
        "        error = Y_proba - train_labels     \n",
        "        gradients = 1/m * X_train.T.dot(error) + np.r_[np.zeros([1, 1]), alpha * Theta[1:]]\n",
        "        Theta = Theta - eta * gradients\n",
        "\n",
        "        logits = X_valid.dot(Theta)\n",
        "        Y_proba1 = sigmoid(logits)\n",
        "        Y_proba1 = Y_proba1.reshape(len(Y_proba1), 1)\n",
        "\n",
        "        logistic_loss = -1/len(X_valid) * (np.sum((valid_labels * np.log(Y_proba1 + epsilon) + (1 - valid_labels) * np.log(1 - Y_proba1 + epsilon))))\n",
        "        l2_loss = 1/2 * np.sum(np.square(Theta[1:]))\n",
        "        loss = logistic_loss + alpha * l2_loss\n",
        "\n",
        "        if iteration % 500 == 0:\n",
        "            print(iteration, loss)\n",
        "\n",
        "        # 에포크마다 최소 손실값 업데이트\n",
        "        if loss < best_loss:\n",
        "            best_loss = loss\n",
        "            update_theta = Theta\n",
        "            best_iteration = iteration\n",
        "        else:\n",
        "            count = count + 1\n",
        "            if count == 500:                                   \n",
        "              print(best_iteration, best_loss)        \n",
        "              print(iteration, loss, \"조기 종료!\\n\")\n",
        "              if len(best_theta) == 0:      #클래스별 학습된 세타 값을 저장\n",
        "                best_theta = np.append(best_theta, np.array(update_theta))\n",
        "              else:\n",
        "                best_theta = np.c_[best_theta, update_theta]\n",
        "              best_loss = np.infty\n",
        "              count = 0\n",
        "              break\n",
        "        if iteration == 5000:\n",
        "            if len(best_theta) == 0:      #클래스별 학습된 세타 값을 저장\n",
        "                best_theta = np.append(best_theta, np.array(update_theta))\n",
        "            else:\n",
        "                best_theta = np.c_[best_theta, update_theta]\n",
        "            best_loss = np.infty\n",
        "            count = 0\n",
        "            print()"
      ],
      "execution_count": 23,
      "outputs": [
        {
          "output_type": "stream",
          "text": [
            "0 2.8324585554264754\n",
            "500 0.18148748306964524\n",
            "1000 0.1801540617504957\n",
            "758 0.1797808030082284\n",
            "1258 0.18069319479686938 조기 종료!\n",
            "\n",
            "0 1.7961252954385172\n",
            "500 0.6889945510053727\n",
            "216 0.6775919931218558\n",
            "708 0.6956429857752415 조기 종료!\n",
            "\n",
            "0 1.1484956079541364\n",
            "500 0.3971356381694875\n",
            "1000 0.353745580215652\n",
            "1500 0.3401989208866527\n",
            "2000 0.3342908511580718\n",
            "2500 0.3312909804535724\n",
            "3000 0.3296279296047427\n",
            "3500 0.32865344160087623\n",
            "4000 0.3280614509765657\n",
            "4500 0.32769320083179504\n",
            "5000 0.3274605344054749\n",
            "\n"
          ],
          "name": "stdout"
        }
      ]
    },
    {
      "cell_type": "markdown",
      "metadata": {
        "id": "ax8XCykQ4jG5"
      },
      "source": [
        "이진 분류의 정확도를 측정하는 함수와는 예측 값의 형태만 다르다. 클래스별 예측값 중 가장 큰 값을 1로 바꾸고 나머지는 0으로 바꾼다."
      ]
    },
    {
      "cell_type": "code",
      "metadata": {
        "id": "YZTbp_yqy9Tu"
      },
      "source": [
        "def score_multie(theta, x, y):\n",
        "    result = np.array([])\n",
        "    for i in theta:\n",
        "      logits = x.dot(i)              \n",
        "      Y_proba = sigmoid(logits)\n",
        "\n",
        "      if len(result) == 0:\n",
        "        result = np.append(result, np.array([Y_proba]))\n",
        "      else:\n",
        "        result = np.c_[result, Y_proba]\n",
        "    \n",
        "    for i in range(len(result)):\n",
        "      if np.max(result[i]) < 0.5:\n",
        "        result[i] = np.where(result[i] <= np.max(result[i]), 0, result[i])\n",
        "      else:\n",
        "        result[i] = np.where(result[i] < np.max(result[i]), 0, result[i])\n",
        "        result[i] = np.where(result[i] == np.max(result[i]), 1, result[i])\n",
        "      \n",
        "    accuracy_score = np.mean(result == y)  # 정확도 계산\n",
        "    return accuracy_score"
      ],
      "execution_count": 24,
      "outputs": []
    },
    {
      "cell_type": "markdown",
      "metadata": {
        "id": "O_JBVHxojHut"
      },
      "source": [
        "직접 구현한 다중 클래스 분류와 사이킷런이 제공하는 로지스틱 회귀 다중 클래스 분류의 정확도를 비교한다."
      ]
    },
    {
      "cell_type": "code",
      "metadata": {
        "colab": {
          "base_uri": "https://localhost:8080/"
        },
        "id": "bVcGSke3E_DG",
        "outputId": "327867ec-2bc2-424f-e8c2-e60b4c7b31ce"
      },
      "source": [
        "score_multie(best_theta.T, X_test, Y_test_one_hot)"
      ],
      "execution_count": 25,
      "outputs": [
        {
          "output_type": "execute_result",
          "data": {
            "text/plain": [
              "0.8666666666666667"
            ]
          },
          "metadata": {
            "tags": []
          },
          "execution_count": 25
        }
      ]
    },
    {
      "cell_type": "markdown",
      "metadata": {
        "id": "Lu8-bg7Nlsr9"
      },
      "source": [
        "사이킷런이 제공하는 로지스틱 회귀모델의 `solver`인자에 `'newton-cg'`를 넣어서 다중 클래스 분류로 사용할 수 있다."
      ]
    },
    {
      "cell_type": "code",
      "metadata": {
        "colab": {
          "base_uri": "https://localhost:8080/"
        },
        "id": "KNtCBCRe2N5V",
        "outputId": "09aad9da-6958-491f-b44b-cc381d6460b9"
      },
      "source": [
        "from sklearn.linear_model import LogisticRegression\n",
        "multi_log_reg = LogisticRegression(solver='newton-cg', random_state=42).fit(X_train,y_train)\n",
        "\n",
        "multi_log_reg.score(X_test,y_test)"
      ],
      "execution_count": 26,
      "outputs": [
        {
          "output_type": "execute_result",
          "data": {
            "text/plain": [
              "0.9333333333333333"
            ]
          },
          "metadata": {
            "tags": []
          },
          "execution_count": 26
        }
      ]
    },
    {
      "cell_type": "markdown",
      "metadata": {
        "id": "8yDL7yUjlw67"
      },
      "source": [
        "사이킷런이 제공하는 로지스틱 회귀 모델이 좀 더 좋은 성능을 보인다."
      ]
    },
    {
      "cell_type": "markdown",
      "metadata": {
        "id": "InQeJlEP3XoQ"
      },
      "source": [
        "#3. 사진 분류하기"
      ]
    },
    {
      "cell_type": "markdown",
      "metadata": {
        "id": "-C9k9HaD5Qst"
      },
      "source": [
        "##데이터 가져오기"
      ]
    },
    {
      "cell_type": "markdown",
      "metadata": {
        "id": "e3hW2ERf5Tr6"
      },
      "source": [
        "깃허브에 미리 100*100사이즈로 리사이징한 사진 100장을 저장해 놓았다.\n",
        "\n",
        "낮(실내)25장, 낮(실외)25장, 밤(실내)25장, 밤(실외)25장으로 구성되어있다.\n",
        "\n",
        "컬러 이미지는 R,G,B별로 각각 100*100사이즈의 특성을 가지는 3차원 어레이로 구성 되어있다.\n",
        "\n",
        "각 특성은 0~255사이의 값을 가지기 때문에 특성 값을 줄이기 위해 255로 나누었다.\n",
        "\n",
        "그리고 특성의 순서는 상관없기 때문에 다루기 쉽게 1차원으로 바꿔준다."
      ]
    },
    {
      "cell_type": "code",
      "metadata": {
        "id": "7EnGiGDYWjS2"
      },
      "source": [
        "import urllib.request\n",
        "import cv2\n",
        "\n",
        "img_set = np.zeros((1, 30000))\n",
        "\n",
        "DOWNLOAD_ROOT = \"https://raw.githubusercontent.com/min020/dataset/main/day_and_night/\"\n",
        "datapath = os.path.join(\"dataset\", \"day_indoor\", \"\")   #사진이 저장될 폴더명\n",
        "os.makedirs(datapath, exist_ok=True)\n",
        "for i in range(1, 26):     \n",
        "    filename = str(i) + \".jpg\"\n",
        "    url = DOWNLOAD_ROOT + \"day/day_indoor/\" + filename\n",
        "    urllib.request.urlretrieve(url, datapath + filename)\n",
        "    img = np.ravel(cv2.imread(datapath + str(i) + \".jpg\", cv2.IMREAD_COLOR)) / 255.0   #사진을 불러온후 ravel을 이용해 1차원으로 바꾼다.\n",
        "    img_set = np.concatenate((img_set, img.reshape(1, len(img))))    #1차원으로 바꾼 특성을 순서대로 저장한다.\n",
        "\n",
        "\n",
        "datapath = os.path.join(\"dataset\", \"day_outdoor\", \"\")\n",
        "os.makedirs(datapath, exist_ok=True)\n",
        "for i in range(26, 51):\n",
        "    filename = str(i) + \".jpg\"\n",
        "    url = DOWNLOAD_ROOT + \"day/day_outdoor/\" + filename\n",
        "    urllib.request.urlretrieve(url, datapath + filename)\n",
        "    img = np.ravel(cv2.imread(datapath + str(i) + \".jpg\", cv2.IMREAD_COLOR)) / 255.0\n",
        "    img_set = np.concatenate((img_set, img.reshape(1, len(img))))\n",
        "\n",
        "datapath = os.path.join(\"dataset\", \"night_indoor\", \"\")\n",
        "os.makedirs(datapath, exist_ok=True)\n",
        "for i in range(51, 76):\n",
        "    filename = str(i) + \".jpg\"\n",
        "    url = DOWNLOAD_ROOT + \"night/night_indoor/\" + filename\n",
        "    urllib.request.urlretrieve(url, datapath + filename)\n",
        "    img = np.ravel(cv2.imread(datapath + str(i) + \".jpg\", cv2.IMREAD_COLOR)) / 255.0\n",
        "    img_set = np.concatenate((img_set, img.reshape(1, len(img))))\n",
        "\n",
        "datapath = os.path.join(\"dataset\", \"night_outdoor\", \"\")\n",
        "os.makedirs(datapath, exist_ok=True)\n",
        "for i in range(76, 101):\n",
        "    filename = str(i) + \".jpg\"\n",
        "    url = DOWNLOAD_ROOT + \"night/night_outdoor/\" + filename\n",
        "    urllib.request.urlretrieve(url, datapath + filename)\n",
        "    img = np.ravel(cv2.imread(datapath + str(i) + \".jpg\", cv2.IMREAD_COLOR)) / 255.0\n",
        "    img_set = np.concatenate((img_set, img.reshape(1, len(img))))\n",
        "img_set = np.delete(img_set, 0, 0)"
      ],
      "execution_count": 27,
      "outputs": []
    },
    {
      "cell_type": "markdown",
      "metadata": {
        "id": "RdGx49ZQ8PcO"
      },
      "source": [
        "낮과 밤, 실내와 실외로 나누어 라벨링을 한다. 낮과 실내를 1로 설정했다."
      ]
    },
    {
      "cell_type": "code",
      "metadata": {
        "id": "bbuC7tNZHhQh"
      },
      "source": [
        "label_time = np.concatenate((np.tile(np.array([1]), (25)), np.tile(np.array([1]), (25)), np.tile(np.array([0]), (25)), np.tile(np.array([0]), (25))))\n",
        "label_place = np.concatenate((np.tile(np.array([1]), (25)), np.tile(np.array([0]), (25)), np.tile(np.array([1]), (25)), np.tile(np.array([0]), (25))))\n",
        "label = np.c_[label_time, label_place]"
      ],
      "execution_count": 28,
      "outputs": []
    },
    {
      "cell_type": "code",
      "metadata": {
        "id": "8qpq7CrlLGHc"
      },
      "source": [
        "test_ratio = 0.2                                         # 테스트 세트 비율 = 20%\n",
        "validation_ratio = 0.2                                   # 검증 세트 비율 = 20%\n",
        "total_size = len(img_set)                            # 전체 데이터셋 크기\n",
        "\n",
        "test_size = int(total_size * test_ratio)                 # 테스트 세트 크기: 전체의 20%\n",
        "validation_size = int(total_size * validation_ratio)     # 검증 세트 크기: 전체의 20%\n",
        "train_size = total_size - test_size - validation_size    # 훈련 세트 크기: 전체의 60%\n",
        "\n",
        "rnd_indices = np.random.permutation(total_size)\n",
        "\n",
        "img_train = img_set[rnd_indices[:train_size]]\n",
        "time_train = label_time[rnd_indices[:train_size]]\n",
        "place_train = label_place[rnd_indices[:train_size]]\n",
        "time_train = time_train.reshape(len(time_train), 1)\n",
        "place_train = place_train.reshape(len(place_train), 1)\n",
        "label_train = label[rnd_indices[:train_size]]\n",
        "\n",
        "img_valid = img_set[rnd_indices[train_size:-test_size]]\n",
        "time_valid = label_time[rnd_indices[train_size:-test_size]]\n",
        "place_valid = label_place[rnd_indices[train_size:-test_size]]\n",
        "time_valid = time_valid.reshape(len(time_valid), 1)\n",
        "place_valid = place_valid.reshape(len(place_valid), 1)\n",
        "\n",
        "img_test = img_set[rnd_indices[-test_size:]]\n",
        "time_test = label_time[rnd_indices[-test_size:]]\n",
        "place_test = label_place[rnd_indices[-test_size:]]\n",
        "time_test = time_test.reshape(len(time_test), 1)\n",
        "place_test = place_test.reshape(len(place_test), 1)\n",
        "label_test = label[rnd_indices[-test_size:]]"
      ],
      "execution_count": 29,
      "outputs": []
    },
    {
      "cell_type": "markdown",
      "metadata": {
        "id": "2nPaYKfR8v_q"
      },
      "source": [
        "##A. 낮과 밤으로 분류하는 로지스틱 회귀 모델"
      ]
    },
    {
      "cell_type": "markdown",
      "metadata": {
        "id": "ZDmckQsc9ZpR"
      },
      "source": [
        "1번에서 구현한 모델과 같지만 사진특성에는 편향을 추가해 주지 않았기 때문에 그레디언트 부분을 수정해서 다시 선언해준다."
      ]
    },
    {
      "cell_type": "code",
      "metadata": {
        "id": "Vfa9CTQ_-RdA"
      },
      "source": [
        "def custom_logistic(x_t, x_v, y_t, y_v, e, iter, alpha):\n",
        "  epsilon = 1e-7\n",
        "  best_loss = np.infty\n",
        "  best_theta = np.array([])\n",
        "  Theta = np.random.randn(x_t.shape[1], 1) * 0.1\n",
        "  count = 0\n",
        "\n",
        "  for iteration in range(iter):     \n",
        "      logits = x_t.dot(Theta)\n",
        "      Y_proba = sigmoid(logits)\n",
        "      Y_proba = Y_proba.reshape(len(Y_proba), 1)\n",
        "\n",
        "      error = Y_proba - y_t    \n",
        "      gradients = 1/len(x_t) * x_t.T.dot(error) + alpha * Theta\n",
        "      Theta = Theta - e * gradients  \n",
        "\n",
        "      logits = x_v.dot(Theta)\n",
        "      Y_proba1 = sigmoid(logits)\n",
        "      Y_proba1 = Y_proba1.reshape(len(Y_proba1), 1)\n",
        "\n",
        "      logistic_loss = -1/len(x_v) * (np.sum((y_v * np.log(Y_proba1 + epsilon) + (1 - y_v) * np.log(1 - Y_proba1 + epsilon))))\n",
        "      l2_loss = 1/2 * np.sum(np.square(Theta))  \n",
        "      loss = logistic_loss + alpha * l2_loss\n",
        "\n",
        "      if iteration % 500 == 0:    \n",
        "          print(iteration, loss)\n",
        "\n",
        "      if loss < best_loss:   \n",
        "          best_loss = loss\n",
        "          update_theta = Theta\n",
        "          best_iteration = iteration\n",
        "      else:\n",
        "          count = count + 1     \n",
        "          if count == 500:\n",
        "            print(best_iteration, best_loss)\n",
        "            print(iteration, loss, \"조기 종료!\")\n",
        "            best_theta = update_theta\n",
        "            break\n",
        "      if iteration == 5000:\n",
        "          best_theta = update_theta\n",
        "  return best_theta"
      ],
      "execution_count": 30,
      "outputs": []
    },
    {
      "cell_type": "code",
      "metadata": {
        "colab": {
          "base_uri": "https://localhost:8080/"
        },
        "id": "a0b0t-yIAQWv",
        "outputId": "013f8e88-5f9b-490c-b80d-f9a18f37c79d"
      },
      "source": [
        "best_theta_time = custom_logistic(img_train, img_valid, time_train, time_valid, 0.03, 5001, 0.1)"
      ],
      "execution_count": 31,
      "outputs": [
        {
          "output_type": "stream",
          "text": [
            "0 24.481118474723623\n",
            "500 2.4531758466815563\n",
            "1000 1.3550301799451117\n",
            "814 0.8876929715788981\n",
            "1153 0.9059949647462503 조기 종료!\n"
          ],
          "name": "stdout"
        }
      ]
    },
    {
      "cell_type": "code",
      "metadata": {
        "colab": {
          "base_uri": "https://localhost:8080/"
        },
        "id": "SqXDEeLh-VDp",
        "outputId": "441d3ada-bad5-4ed8-b3c9-2fa5bbfe5d18"
      },
      "source": [
        "score(img_test, time_test, best_theta_time)"
      ],
      "execution_count": 32,
      "outputs": [
        {
          "output_type": "execute_result",
          "data": {
            "text/plain": [
              "0.8"
            ]
          },
          "metadata": {
            "tags": []
          },
          "execution_count": 32
        }
      ]
    },
    {
      "cell_type": "markdown",
      "metadata": {
        "id": "UaE3I7gI-nKC"
      },
      "source": [
        "##B. 낮과 밤, 실내와 실외로 분류하는 다중 레이블 분류"
      ]
    },
    {
      "cell_type": "markdown",
      "metadata": {
        "id": "m7DEUzcIEp78"
      },
      "source": [
        "낮과 밤을 분류하도록 훈련된 세타값은 A번에서 가져온다.\n",
        "\n",
        "실내와 실외를 분류하는 정확도이다."
      ]
    },
    {
      "cell_type": "code",
      "metadata": {
        "colab": {
          "base_uri": "https://localhost:8080/"
        },
        "id": "XMtkQwDw-9Wk",
        "outputId": "d2079259-0635-4e17-c709-0757af8071cf"
      },
      "source": [
        "best_theta_place = custom_logistic(img_train, img_valid, place_train, place_valid, 0.05, 5001, 0.1)"
      ],
      "execution_count": 33,
      "outputs": [
        {
          "output_type": "stream",
          "text": [
            "0 22.366810621509387\n",
            "500 8.574634992730468\n",
            "479 1.7202279115031904\n",
            "878 2.0095348389206897 조기 종료!\n"
          ],
          "name": "stdout"
        }
      ]
    },
    {
      "cell_type": "code",
      "metadata": {
        "colab": {
          "base_uri": "https://localhost:8080/"
        },
        "id": "ROmApZKxFzoL",
        "outputId": "3915e50c-010f-4f25-91bc-fb60de537e3f"
      },
      "source": [
        "score(img_test, place_test, best_theta_place)"
      ],
      "execution_count": 34,
      "outputs": [
        {
          "output_type": "execute_result",
          "data": {
            "text/plain": [
              "0.8"
            ]
          },
          "metadata": {
            "tags": []
          },
          "execution_count": 34
        }
      ]
    },
    {
      "cell_type": "markdown",
      "metadata": {
        "id": "Oo-0IAT5nV0x"
      },
      "source": [
        "낮과 밤, 실내와 실외를 분류하는 정확도가 학습률을 조정하면 계속해서 바뀐다.   \n",
        "낮과 밤은 0.03, 실내와 실외는 0.05가 가장 높은 정확도가 나오는 학습률이다.\n",
        "\n",
        "<br/>\n",
        "\n",
        "다음은 낮과 밤, 실내와 실외를 모두 분류한 다중 레이블 분류의 정확도이다.   \n",
        "각각의 세타값으로 예측한 값을 합친 후 y(레이블)와 비교한다."
      ]
    },
    {
      "cell_type": "code",
      "metadata": {
        "colab": {
          "base_uri": "https://localhost:8080/"
        },
        "id": "C_5REWep_L-z",
        "outputId": "7c136ddd-b9ac-4262-947d-62186852ec69"
      },
      "source": [
        "y = np.c_[time_test, place_test]\n",
        "\n",
        "logits = img_test.dot(best_theta_time)              \n",
        "Y_proba = sigmoid(logits)\n",
        "y_predict = np.array([])\n",
        "result = np.array([])\n",
        "for i in Y_proba:\n",
        "  if i < 0.5:\n",
        "    y_predict = np.append(y_predict, np.array([0]))\n",
        "  else:\n",
        "    y_predict = np.append(y_predict, np.array([1]))\n",
        "\n",
        "result = np.append(result, np.array([y_predict]))\n",
        "\n",
        "logits = img_test.dot(best_theta_place)              \n",
        "Y_proba = sigmoid(logits)\n",
        "y_predict = np.array([])\n",
        "for i in Y_proba:\n",
        "  if i < 0.5:\n",
        "    y_predict = np.append(y_predict, np.array([0]))\n",
        "  else:\n",
        "    y_predict = np.append(y_predict, np.array([1]))\n",
        "\n",
        "result = np.c_[result, y_predict]\n",
        "    \n",
        "\n",
        "accuracy_score = np.mean(result == y)\n",
        "accuracy_score"
      ],
      "execution_count": 35,
      "outputs": [
        {
          "output_type": "execute_result",
          "data": {
            "text/plain": [
              "0.8"
            ]
          },
          "metadata": {
            "tags": []
          },
          "execution_count": 35
        }
      ]
    },
    {
      "cell_type": "markdown",
      "metadata": {
        "id": "lJiGJPJQnaVO"
      },
      "source": [
        "각각의 분류가 0.8씩 나오고 다중 분류 정확도가 0.8로 나오는 것으로 봐서 그리 나쁘지 않은 성능인것 같다."
      ]
    },
    {
      "cell_type": "markdown",
      "metadata": {
        "id": "5tmmN8tNEJ9t"
      },
      "source": [
        "##C. 사이킷런에서 제공하는 LogisticRegression 모델과 성능 비교"
      ]
    },
    {
      "cell_type": "markdown",
      "metadata": {
        "id": "vrryC7DkkMPh"
      },
      "source": [
        "직접 구현한 로지스틱 회귀와 사이킷런에서 제공하는 로지스틱 회귀와 성능 비교를 해본다."
      ]
    },
    {
      "cell_type": "markdown",
      "metadata": {
        "id": "UekGU2LFGeOw"
      },
      "source": [
        "사이킷런 로지스틱 회귀 모델의 낮과 밤을 분류한 정확도이다."
      ]
    },
    {
      "cell_type": "code",
      "metadata": {
        "colab": {
          "base_uri": "https://localhost:8080/"
        },
        "id": "JeZ7YeypeR4G",
        "outputId": "36f014c5-4e64-4c79-af1e-418e0a41003c"
      },
      "source": [
        "from sklearn.linear_model import LogisticRegression\n",
        "log_reg = LogisticRegression(solver=\"lbfgs\", random_state=42)\n",
        "log_reg.fit(img_train, time_train)"
      ],
      "execution_count": 36,
      "outputs": [
        {
          "output_type": "stream",
          "text": [
            "/usr/local/lib/python3.7/dist-packages/sklearn/utils/validation.py:760: DataConversionWarning: A column-vector y was passed when a 1d array was expected. Please change the shape of y to (n_samples, ), for example using ravel().\n",
            "  y = column_or_1d(y, warn=True)\n",
            "/usr/local/lib/python3.7/dist-packages/sklearn/linear_model/_logistic.py:940: ConvergenceWarning: lbfgs failed to converge (status=1):\n",
            "STOP: TOTAL NO. of ITERATIONS REACHED LIMIT.\n",
            "\n",
            "Increase the number of iterations (max_iter) or scale the data as shown in:\n",
            "    https://scikit-learn.org/stable/modules/preprocessing.html\n",
            "Please also refer to the documentation for alternative solver options:\n",
            "    https://scikit-learn.org/stable/modules/linear_model.html#logistic-regression\n",
            "  extra_warning_msg=_LOGISTIC_SOLVER_CONVERGENCE_MSG)\n"
          ],
          "name": "stderr"
        },
        {
          "output_type": "execute_result",
          "data": {
            "text/plain": [
              "LogisticRegression(C=1.0, class_weight=None, dual=False, fit_intercept=True,\n",
              "                   intercept_scaling=1, l1_ratio=None, max_iter=100,\n",
              "                   multi_class='auto', n_jobs=None, penalty='l2',\n",
              "                   random_state=42, solver='lbfgs', tol=0.0001, verbose=0,\n",
              "                   warm_start=False)"
            ]
          },
          "metadata": {
            "tags": []
          },
          "execution_count": 36
        }
      ]
    },
    {
      "cell_type": "code",
      "metadata": {
        "colab": {
          "base_uri": "https://localhost:8080/"
        },
        "id": "IaNZ-RcYgJ4i",
        "outputId": "62b98ba3-58cf-4086-b2b3-5c811829db90"
      },
      "source": [
        "prediction = log_reg.predict(img_test)\n",
        "np.mean(prediction.reshape(len(prediction), 1) == time_test)"
      ],
      "execution_count": 37,
      "outputs": [
        {
          "output_type": "execute_result",
          "data": {
            "text/plain": [
              "0.9"
            ]
          },
          "metadata": {
            "tags": []
          },
          "execution_count": 37
        }
      ]
    },
    {
      "cell_type": "markdown",
      "metadata": {
        "id": "cQLER780FjD6"
      },
      "source": [
        "낮과 밤은 직접 구현한 모델보다 성능이 높게 나왔다.   \n",
        "다음은 실내와 실외를 분류한 정확도이다."
      ]
    },
    {
      "cell_type": "code",
      "metadata": {
        "colab": {
          "base_uri": "https://localhost:8080/"
        },
        "id": "SdaxomeIgsD_",
        "outputId": "7e70db15-983c-48a9-9ad5-130bcb3ebd6b"
      },
      "source": [
        "from sklearn.linear_model import LogisticRegression\n",
        "log_reg_place = LogisticRegression(solver=\"lbfgs\", random_state=42)\n",
        "log_reg_place.fit(img_train, place_train)"
      ],
      "execution_count": 38,
      "outputs": [
        {
          "output_type": "stream",
          "text": [
            "/usr/local/lib/python3.7/dist-packages/sklearn/utils/validation.py:760: DataConversionWarning: A column-vector y was passed when a 1d array was expected. Please change the shape of y to (n_samples, ), for example using ravel().\n",
            "  y = column_or_1d(y, warn=True)\n",
            "/usr/local/lib/python3.7/dist-packages/sklearn/linear_model/_logistic.py:940: ConvergenceWarning: lbfgs failed to converge (status=1):\n",
            "STOP: TOTAL NO. of ITERATIONS REACHED LIMIT.\n",
            "\n",
            "Increase the number of iterations (max_iter) or scale the data as shown in:\n",
            "    https://scikit-learn.org/stable/modules/preprocessing.html\n",
            "Please also refer to the documentation for alternative solver options:\n",
            "    https://scikit-learn.org/stable/modules/linear_model.html#logistic-regression\n",
            "  extra_warning_msg=_LOGISTIC_SOLVER_CONVERGENCE_MSG)\n"
          ],
          "name": "stderr"
        },
        {
          "output_type": "execute_result",
          "data": {
            "text/plain": [
              "LogisticRegression(C=1.0, class_weight=None, dual=False, fit_intercept=True,\n",
              "                   intercept_scaling=1, l1_ratio=None, max_iter=100,\n",
              "                   multi_class='auto', n_jobs=None, penalty='l2',\n",
              "                   random_state=42, solver='lbfgs', tol=0.0001, verbose=0,\n",
              "                   warm_start=False)"
            ]
          },
          "metadata": {
            "tags": []
          },
          "execution_count": 38
        }
      ]
    },
    {
      "cell_type": "code",
      "metadata": {
        "colab": {
          "base_uri": "https://localhost:8080/"
        },
        "id": "NabfueZjg2A2",
        "outputId": "dc21817f-2c59-4412-f3fc-dd0f75752aa7"
      },
      "source": [
        "prediction = log_reg_place.predict(img_test)\n",
        "np.mean(prediction.reshape(len(prediction), 1) == place_test)"
      ],
      "execution_count": 39,
      "outputs": [
        {
          "output_type": "execute_result",
          "data": {
            "text/plain": [
              "0.75"
            ]
          },
          "metadata": {
            "tags": []
          },
          "execution_count": 39
        }
      ]
    },
    {
      "cell_type": "markdown",
      "metadata": {
        "id": "9lV7FI0bPWXv"
      },
      "source": [
        "실내와 실외는 직접 구현한 모델의 성능이 더 높게 나왔다.   \n",
        "사이킷런이 제공하는 로지스틱 회귀 모델이 다중 레이블 분류에서 좀 더 좋은 성능을 내고 이진 분류는 비슷한 성능을 보인다.   \n",
        "처음 작성한 코드에서 피드백을 받고 비용함수 부분을 수정했더니 전체적인 성능이 올라갔다.   \n",
        "다중레이블 분류의 정확도를 높이는건 좀 더 수정을 해봐야 할 것 같다."
      ]
    }
  ]
}