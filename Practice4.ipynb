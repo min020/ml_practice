{
  "nbformat": 4,
  "nbformat_minor": 0,
  "metadata": {
    "colab": {
      "name": "Practice4.ipynb",
      "provenance": [],
      "collapsed_sections": [],
      "authorship_tag": "ABX9TyOJM2Q+rWzaZ0xXIihxyVp7",
      "include_colab_link": true
    },
    "kernelspec": {
      "name": "python3",
      "display_name": "Python 3"
    },
    "language_info": {
      "name": "python"
    }
  },
  "cells": [
    {
      "cell_type": "markdown",
      "metadata": {
        "id": "view-in-github",
        "colab_type": "text"
      },
      "source": [
        "<a href=\"https://colab.research.google.com/github/min020/ml_practice/blob/main/Practice4.ipynb\" target=\"_parent\"><img src=\"https://colab.research.google.com/assets/colab-badge.svg\" alt=\"Open In Colab\"/></a>"
      ]
    },
    {
      "cell_type": "markdown",
      "metadata": {
        "id": "BfOE6DBEBRvo"
      },
      "source": [
        "##2017250004 김민규"
      ]
    },
    {
      "cell_type": "markdown",
      "metadata": {
        "id": "qlBA9mzTBW1D"
      },
      "source": [
        "#1. 로지스틱 회귀 구현"
      ]
    },
    {
      "cell_type": "markdown",
      "metadata": {
        "id": "EiL0B2VuJSbx"
      },
      "source": [
        "코드 작성에 있어서 기본 설정이다."
      ]
    },
    {
      "cell_type": "code",
      "metadata": {
        "id": "5jR4QrQiBIxr"
      },
      "source": [
        "# 파이썬 ≥3.5 필수\n",
        "import sys\n",
        "assert sys.version_info >= (3, 5)\n",
        "\n",
        "# 사이킷런 ≥0.20 필수\n",
        "import sklearn\n",
        "assert sklearn.__version__ >= \"0.20\"\n",
        "\n",
        "# 공통 모듈 임포트\n",
        "import numpy as np\n",
        "import pandas as pd\n",
        "import os\n",
        "\n",
        "# 노트북 실행 결과를 동일하게 유지하기 위해\n",
        "np.random.seed(42)\n",
        "\n",
        "# 깔끔한 그래프 출력을 위해\n",
        "%matplotlib inline\n",
        "import matplotlib as mpl\n",
        "import matplotlib.pyplot as plt\n",
        "mpl.rc('axes', labelsize=14)\n",
        "mpl.rc('xtick', labelsize=12)\n",
        "mpl.rc('ytick', labelsize=12)"
      ],
      "execution_count": 1,
      "outputs": []
    },
    {
      "cell_type": "markdown",
      "metadata": {
        "id": "zzZNgIAyF2tn"
      },
      "source": [
        "##데이터 불러오기"
      ]
    },
    {
      "cell_type": "markdown",
      "metadata": {
        "id": "0i30GcmwiOj7"
      },
      "source": [
        "사이킷런이 기본으로 제공하는 붓꽃 데이터를 가져온다"
      ]
    },
    {
      "cell_type": "code",
      "metadata": {
        "id": "Z5NAi26WJgBp"
      },
      "source": [
        "from sklearn import datasets\n",
        "iris = datasets.load_iris()"
      ],
      "execution_count": 2,
      "outputs": []
    },
    {
      "cell_type": "code",
      "metadata": {
        "id": "m7IhUTnLJjLQ"
      },
      "source": [
        "X = iris[\"data\"][:, (2, 3)]  # 꽃잎 길이, 꽃잎 넓이\n",
        "y = (iris[\"target\"] == 2).astype(np.int)  # 버지니카(Virginica) 품종일 때 1(양성)"
      ],
      "execution_count": 3,
      "outputs": []
    },
    {
      "cell_type": "code",
      "metadata": {
        "id": "9QhVtZRFseqG"
      },
      "source": [
        "X_with_bias = np.c_[np.ones([len(X), 1]), X]   #특성에 편향 추가"
      ],
      "execution_count": 4,
      "outputs": []
    },
    {
      "cell_type": "code",
      "metadata": {
        "id": "IwNDMTjxoaKP"
      },
      "source": [
        "test_ratio = 0.2                                         # 테스트 세트 비율 = 20%\n",
        "validation_ratio = 0.2                                   # 검증 세트 비율 = 20%\n",
        "total_size = len(X_with_bias)                            # 전체 데이터셋 크기\n",
        "\n",
        "test_size = int(total_size * test_ratio)                 # 테스트 세트 크기: 전체의 20%\n",
        "validation_size = int(total_size * validation_ratio)     # 검증 세트 크기: 전체의 20%\n",
        "train_size = total_size - test_size - validation_size    # 훈련 세트 크기: 전체의 60%\n",
        "\n",
        "rnd_indices = np.random.permutation(total_size)"
      ],
      "execution_count": 5,
      "outputs": []
    },
    {
      "cell_type": "markdown",
      "metadata": {
        "id": "3g_G4ggzGLXc"
      },
      "source": [
        "예측 타겟과 연산이 잘 이뤄지도록 타겟의 어레이 형태를 미리 바꿔준다."
      ]
    },
    {
      "cell_type": "code",
      "metadata": {
        "id": "UQEc-NPnogeU"
      },
      "source": [
        "X_train = X_with_bias[rnd_indices[:train_size]]\n",
        "y_train = y[rnd_indices[:train_size]]\n",
        "y_train = y_train.reshape(len(y_train), 1)\n",
        "\n",
        "X_valid = X_with_bias[rnd_indices[train_size:-test_size]]\n",
        "y_valid = y[rnd_indices[train_size:-test_size]]\n",
        "y_valid = y_valid.reshape(len(y_valid), 1)\n",
        "\n",
        "\n",
        "X_test = X_with_bias[rnd_indices[-test_size:]]\n",
        "y_test = y[rnd_indices[-test_size:]]\n",
        "y_test = y_test.reshape(len(y_test), 1)"
      ],
      "execution_count": 6,
      "outputs": []
    },
    {
      "cell_type": "markdown",
      "metadata": {
        "id": "_z0gaTTortWd"
      },
      "source": [
        "##로지스틱 회귀 함수 구현"
      ]
    },
    {
      "cell_type": "markdown",
      "metadata": {
        "id": "o_vvWwR-Gm2G"
      },
      "source": [
        "시그모이드 함수를 정의한다."
      ]
    },
    {
      "cell_type": "code",
      "metadata": {
        "id": "GeKRCkC5fhnp"
      },
      "source": [
        "def sigmoid(x):\n",
        "    return 1/(1+np.exp(-1 * x))"
      ],
      "execution_count": 7,
      "outputs": []
    },
    {
      "cell_type": "markdown",
      "metadata": {
        "id": "zqDl8e9_GqSW"
      },
      "source": [
        "조기종료와 경사 하강법을 이용한 로지스틱 회귀 모델이다. 인자로 훈련세트, 검증세트, 훈련타겟, 검증타겟, 학습률, 에포크 수, 알파(규제정도)를 넣는다. 최종적으로 학습된 세타값이 나오게 된다."
      ]
    },
    {
      "cell_type": "code",
      "metadata": {
        "id": "XsK2baqBDvQa"
      },
      "source": [
        "def custom_logistic(x_t, x_v, y_t, y_v, e, iter, alpha):\n",
        "  epsilon = 1e-7\n",
        "  best_loss = np.infty\n",
        "  best_theta = np.array([])    #학습된 세타\n",
        "  Theta = np.random.randn(x_t.shape[1], 1) * 0.01  #특성 개수 만큼 랜덤한 값의 세타 생성\n",
        "  count = 0\n",
        "\n",
        "  for iteration in range(iter):     \n",
        "      logits = x_t.dot(Theta)   #훈련세트로 모델 훈련\n",
        "      Y_proba = sigmoid(logits)\n",
        "      Y_pro_train = np.array([]) \n",
        "\n",
        "      for i in Y_proba:     #sigmoid 함수로 예측한 값을 0과 1로 변환\n",
        "        if i < 0.5:\n",
        "          Y_pro_train = np.append(Y_pro_train, np.array([0]))\n",
        "        else:\n",
        "          Y_pro_train = np.append(Y_pro_train, np.array([1]))\n",
        "      Y_pro_train = Y_pro_train.reshape(len(Y_pro_train), 1)\n",
        "\n",
        "      error = Y_pro_train - y_t     #그레디언트 계산\n",
        "      gradients = 1/len(x_t) * x_t.T.dot(error) + np.r_[np.zeros([1, 1]), alpha * Theta[1:]]  #편향에는 규제를 적용하지 않음\n",
        "      Theta = Theta - e * gradients   #세타값 수정\n",
        "\n",
        "      #검증세트로 비용함수 계산\n",
        "      logits = x_v.dot(Theta)\n",
        "      Y_proba = sigmoid(logits)\n",
        "      Y_pro_valid = np.array([]) \n",
        "      for i in Y_proba:\n",
        "        if i < 0.5:\n",
        "          Y_pro_valid = np.append(Y_pro_valid, np.array([0]))\n",
        "        else:\n",
        "          Y_pro_valid = np.append(Y_pro_valid, np.array([1]))\n",
        "      Y_pro_valid = Y_pro_valid.reshape(len(Y_pro_valid), 1)\n",
        "\n",
        "      logistic_loss = -1/len(x_v) * (np.sum(y_v * np.log(Y_proba + epsilon) + (1 - y_v) * np.log(1 - Y_proba + epsilon)))  #로지스틱 회귀의 비용함수\n",
        "      l2_loss = 1/2 * np.sum(np.square(Theta[1:]))   #릿지 규제\n",
        "      loss = logistic_loss + alpha * l2_loss  #규제를 적용한 손실비용\n",
        "\n",
        "      if iteration % 500 == 0:    #500에포크마다 손실비용 출력\n",
        "          print(iteration, loss)\n",
        "\n",
        "      if loss < best_loss:   #현재 손실비용이 전 에포크의 손실비용보다 좋으면 세타와 손실비용, 몇 에포크인지 저장\n",
        "          best_loss = loss\n",
        "          update_theta = Theta\n",
        "          best_iteration = iteration\n",
        "      else:\n",
        "          count = count + 1     #훈련이 너무 빨리 종료되지 않도록 비용함수가 증가하는 시점부터 500에포크 만큼 여유를 더 줌\n",
        "          if count == 500:\n",
        "            print(best_iteration, best_loss)\n",
        "            print(iteration, loss, \"조기 종료!\")\n",
        "            best_theta = Theta\n",
        "            break\n",
        "  return best_theta"
      ],
      "execution_count": 8,
      "outputs": []
    },
    {
      "cell_type": "code",
      "metadata": {
        "colab": {
          "base_uri": "https://localhost:8080/"
        },
        "id": "-QprvK-GDT2K",
        "outputId": "7d40ccd2-a20e-4101-9268-829898b561b1"
      },
      "source": [
        "best_theta = custom_logistic(X_train, X_valid, y_train, y_valid, 0.008, 5001, 0.1)"
      ],
      "execution_count": 9,
      "outputs": [
        {
          "output_type": "stream",
          "text": [
            "0 0.6937924415670413\n",
            "500 0.6781515868268262\n",
            "277 0.6761331341641763\n",
            "586 0.6784351840733734 조기 종료!\n"
          ],
          "name": "stdout"
        }
      ]
    },
    {
      "cell_type": "markdown",
      "metadata": {
        "id": "JXYEmvZDpL6t"
      },
      "source": [
        "정확도를 출력하는 함수이다."
      ]
    },
    {
      "cell_type": "code",
      "metadata": {
        "id": "nEQ_z-yD4JMt"
      },
      "source": [
        "def score(x, y, theta):\n",
        "  logits = x.dot(theta)              \n",
        "  Y_proba = sigmoid(logits)\n",
        "  y_predict = np.array([])\n",
        "  for i in Y_proba:\n",
        "    if i < 0.5:\n",
        "      y_predict = np.append(y_predict, np.array([0]))\n",
        "    else:\n",
        "      y_predict = np.append(y_predict, np.array([1]))\n",
        "  y_predict = y_predict.reshape(len(Y_proba), 1)\n",
        "\n",
        "  accuracy_score = np.mean(y_predict == y)\n",
        "\n",
        "  return accuracy_score"
      ],
      "execution_count": 10,
      "outputs": []
    },
    {
      "cell_type": "markdown",
      "metadata": {
        "id": "f5cdOMcZiiWe"
      },
      "source": [
        "붓꽃의 길이와 넓이로 버지니카인지 이진분류하는 정확도이다."
      ]
    },
    {
      "cell_type": "code",
      "metadata": {
        "colab": {
          "base_uri": "https://localhost:8080/"
        },
        "id": "aIZ3fSXCE7-T",
        "outputId": "b35d9c08-c9b1-4e9a-ef69-9fd5e1ffb5fa"
      },
      "source": [
        "score(X_test, y_test, best_theta)"
      ],
      "execution_count": 11,
      "outputs": [
        {
          "output_type": "execute_result",
          "data": {
            "text/plain": [
              "0.9666666666666667"
            ]
          },
          "metadata": {
            "tags": []
          },
          "execution_count": 11
        }
      ]
    },
    {
      "cell_type": "markdown",
      "metadata": {
        "id": "JV4WEJw-gn8S"
      },
      "source": [
        "#2. 일대다 방식을 적용한 로지스틱 회귀 다중 클래스 분류"
      ]
    },
    {
      "cell_type": "markdown",
      "metadata": {
        "id": "b75PExYar9HF"
      },
      "source": [
        "##데이터 불러오기"
      ]
    },
    {
      "cell_type": "markdown",
      "metadata": {
        "id": "68MfSyP-iwYQ"
      },
      "source": [
        "1번과 같이 붓꽃 데이터를 다시 불러온다."
      ]
    },
    {
      "cell_type": "code",
      "metadata": {
        "id": "0J_b_5IgZbgV"
      },
      "source": [
        "X = iris[\"data\"][:, (2, 3)]  # 꽃잎 길이, 꽃잎 넓이\n",
        "y = iris[\"target\"]   #모든 꽃잎 종류"
      ],
      "execution_count": 12,
      "outputs": []
    },
    {
      "cell_type": "code",
      "metadata": {
        "id": "xN0mGBWXZbgb"
      },
      "source": [
        "X_with_bias = np.c_[np.ones([len(X), 1]), X]    #특성에 편향 추가"
      ],
      "execution_count": 13,
      "outputs": []
    },
    {
      "cell_type": "code",
      "metadata": {
        "id": "dUTqBTUuZbgc"
      },
      "source": [
        "test_ratio = 0.2                                         # 테스트 세트 비율 = 20%\n",
        "validation_ratio = 0.2                                   # 검증 세트 비율 = 20%\n",
        "total_size = len(X_with_bias)                            # 전체 데이터셋 크기\n",
        "\n",
        "test_size = int(total_size * test_ratio)                 # 테스트 세트 크기: 전체의 20%\n",
        "validation_size = int(total_size * validation_ratio)     # 검증 세트 크기: 전체의 20%\n",
        "train_size = total_size - test_size - validation_size    # 훈련 세트 크기: 전체의 60%\n",
        "\n",
        "rnd_indices = np.random.permutation(total_size)"
      ],
      "execution_count": 14,
      "outputs": []
    },
    {
      "cell_type": "code",
      "metadata": {
        "id": "noTZgNsaZbgc"
      },
      "source": [
        "X_train = X_with_bias[rnd_indices[:train_size]]\n",
        "y_train = y[rnd_indices[:train_size]]\n",
        "\n",
        "X_valid = X_with_bias[rnd_indices[train_size:-test_size]]\n",
        "y_valid = y[rnd_indices[train_size:-test_size]]\n",
        "\n",
        "\n",
        "X_test = X_with_bias[rnd_indices[-test_size:]]\n",
        "y_test = y[rnd_indices[-test_size:]]"
      ],
      "execution_count": 15,
      "outputs": []
    },
    {
      "cell_type": "code",
      "metadata": {
        "colab": {
          "base_uri": "https://localhost:8080/"
        },
        "id": "NG625dyqtgPp",
        "outputId": "9faad467-9afe-43d4-b734-b9b1a0504f46"
      },
      "source": [
        "y_train[:5]"
      ],
      "execution_count": 16,
      "outputs": [
        {
          "output_type": "execute_result",
          "data": {
            "text/plain": [
              "array([0, 0, 2, 0, 0])"
            ]
          },
          "metadata": {
            "tags": []
          },
          "execution_count": 16
        }
      ]
    },
    {
      "cell_type": "markdown",
      "metadata": {
        "id": "BINgYoAcsPO2"
      },
      "source": [
        "타겟이 범주형으로 표현 되어 있으므로 원핫인코딩을 수행한다."
      ]
    },
    {
      "cell_type": "code",
      "metadata": {
        "id": "HTVrnYLqjlcz"
      },
      "source": [
        "def to_one_hot(y):\n",
        "    n_classes = y.max() + 1                 # 클래스 수\n",
        "    m = len(y)                              # 샘플 수\n",
        "    Y_one_hot = np.zeros((m, n_classes))    # (샘플 수, 클래스 수) 0-벡터 생성\n",
        "    Y_one_hot[np.arange(m), y] = 1          # 샘플 별로 해당 클래스의 값만 1로 변경. (넘파이 인덱싱 활용)\n",
        "    return Y_one_hot"
      ],
      "execution_count": 17,
      "outputs": []
    },
    {
      "cell_type": "markdown",
      "metadata": {
        "id": "m-8m3QVci6B3"
      },
      "source": [
        "원핫인코딩이 잘 이뤄졌는지 확인한다."
      ]
    },
    {
      "cell_type": "code",
      "metadata": {
        "colab": {
          "base_uri": "https://localhost:8080/"
        },
        "id": "K0dxPl-2jmec",
        "outputId": "2c1d46b4-af09-4ff4-95d8-d53c689e31cb"
      },
      "source": [
        "to_one_hot(y_train[:5])"
      ],
      "execution_count": 18,
      "outputs": [
        {
          "output_type": "execute_result",
          "data": {
            "text/plain": [
              "array([[1., 0., 0.],\n",
              "       [1., 0., 0.],\n",
              "       [0., 0., 1.],\n",
              "       [1., 0., 0.],\n",
              "       [1., 0., 0.]])"
            ]
          },
          "metadata": {
            "tags": []
          },
          "execution_count": 18
        }
      ]
    },
    {
      "cell_type": "code",
      "metadata": {
        "id": "AP3uGk9tlEb6"
      },
      "source": [
        "Y_train_one_hot = to_one_hot(y_train)\n",
        "Y_valid_one_hot = to_one_hot(y_valid)\n",
        "Y_test_one_hot = to_one_hot(y_test)"
      ],
      "execution_count": 19,
      "outputs": []
    },
    {
      "cell_type": "code",
      "metadata": {
        "id": "fgwpREN_Zbgc"
      },
      "source": [
        "n_inputs = X_train.shape[1]    #세타 생성시 필요한 변수"
      ],
      "execution_count": 20,
      "outputs": []
    },
    {
      "cell_type": "markdown",
      "metadata": {
        "id": "KMWfX_STufuj"
      },
      "source": [
        "##다중 클래스 분류"
      ]
    },
    {
      "cell_type": "markdown",
      "metadata": {
        "id": "otW5lxGOwyK2"
      },
      "source": [
        "1번에서 구현한 로지스틱 회귀를 클래스 수에 맞게 3번 반복 실행한다. 최종적으로는 각 클래스별로 학습된 세타 값이 나온다."
      ]
    },
    {
      "cell_type": "code",
      "metadata": {
        "colab": {
          "base_uri": "https://localhost:8080/"
        },
        "id": "HosdZv1DZbgd",
        "outputId": "8b851684-5ef2-4fad-cbcc-0572d10caa7e"
      },
      "source": [
        "eta = 0.008\n",
        "n_iterations = 5001\n",
        "m = len(X_train)\n",
        "epsilon = 1e-7\n",
        "alpha = 0.1            \n",
        "best_loss = np.infty   \n",
        "best_theta = np.array([])\n",
        "count = 0\n",
        "\n",
        "for i in range(Y_train_one_hot.shape[1]):   #클래스 수 만큼 반복\n",
        "    Theta = np.random.randn(n_inputs, 1)\n",
        "    train_labels = np.array([])    #클래스별 타겟을 순서대로 저장\n",
        "    valid_labels = np.array([])\n",
        "    for j in range(len(Y_train_one_hot)):\n",
        "        train_labels = np.append(train_labels, np.array([Y_train_one_hot[j][i]]))\n",
        "    for k in range(len(Y_valid_one_hot)):\n",
        "        valid_labels = np.append(valid_labels, np.array([Y_valid_one_hot[k][i]]))\n",
        "\n",
        "    train_labels = train_labels.reshape(len(train_labels), 1)\n",
        "    valid_labels = valid_labels.reshape(len(valid_labels), 1)\n",
        "\n",
        "    for iteration in range(n_iterations):     \n",
        "        logits = X_train.dot(Theta)\n",
        "        Y_proba = sigmoid(logits)\n",
        "        Y_pro_train = np.array([]) \n",
        "\n",
        "        for t in Y_proba:\n",
        "          if t < 0.5:\n",
        "            Y_pro_train = np.append(Y_pro_train, np.array([0]))\n",
        "          else:\n",
        "            Y_pro_train = np.append(Y_pro_train, np.array([1]))\n",
        "        Y_pro_train = Y_pro_train.reshape(len(Y_pro_train), 1)\n",
        "\n",
        "        error = Y_pro_train - train_labels     \n",
        "        gradients = 1/m * X_train.T.dot(error) + np.r_[np.zeros([1, 1]), alpha * Theta[1:]]\n",
        "        Theta = Theta - eta * gradients\n",
        "\n",
        "        logits = X_valid.dot(Theta)\n",
        "        Y_proba = sigmoid(logits)\n",
        "        Y_pro_valid = np.array([]) \n",
        "        for t in Y_proba:\n",
        "          if t < 0.5:\n",
        "            Y_pro_valid = np.append(Y_pro_valid, np.array([0]))\n",
        "          else:\n",
        "            Y_pro_valid = np.append(Y_pro_valid, np.array([1]))\n",
        "        Y_pro_valid = Y_pro_valid.reshape(len(Y_pro_valid), 1)\n",
        "\n",
        "        logistic_loss = -1/len(X_valid) * (np.sum(valid_labels * np.log(Y_proba + epsilon) + (1 - valid_labels) * np.log(1 - Y_proba + epsilon)))\n",
        "        l2_loss = 1/2 * np.sum(np.square(Theta[1:]))\n",
        "        loss = logistic_loss + alpha * l2_loss\n",
        "\n",
        "        if iteration % 500 == 0:\n",
        "            print(iteration, loss)\n",
        "\n",
        "        # 에포크마다 최소 손실값 업데이트\n",
        "        if loss < best_loss:\n",
        "            best_loss = loss\n",
        "            update_theta = Theta\n",
        "            best_iteration = iteration\n",
        "        else:\n",
        "            count = count + 1\n",
        "            if count == 500:                                   \n",
        "              print(best_iteration, best_loss)        \n",
        "              print(iteration, loss, \"조기 종료!\\n\")\n",
        "              if len(best_theta) == 0:      #클래스별 학습된 세타 값을 저장\n",
        "                best_theta = np.append(best_theta, np.array(update_theta))\n",
        "              else:\n",
        "                best_theta = np.c_[best_theta, update_theta]\n",
        "              best_loss = np.infty\n",
        "              count = 0\n",
        "              break"
      ],
      "execution_count": 21,
      "outputs": [
        {
          "output_type": "stream",
          "text": [
            "0 4.0225913870387\n",
            "500 0.5296157580910943\n",
            "97 0.5214856310184777\n",
            "595 0.5324772187115792 조기 종료!\n",
            "\n",
            "0 2.3441280791734154\n",
            "500 0.7087807437143531\n",
            "1000 0.6918664544815131\n",
            "1081 0.6879379492433929\n",
            "1094 0.689597892068635 조기 종료!\n",
            "\n",
            "0 1.1625869805728124\n",
            "500 0.763400022007789\n",
            "1000 0.6795820408458436\n",
            "1313 0.6782773409511903\n",
            "1496 0.6786808310648912 조기 종료!\n",
            "\n"
          ],
          "name": "stdout"
        }
      ]
    },
    {
      "cell_type": "markdown",
      "metadata": {
        "id": "ax8XCykQ4jG5"
      },
      "source": [
        "이진 분류의 정확도를 측정하는 함수와는 예측 값의 형태만 다르다. 클래스별 예측값 중 가장 큰 값을 1로 바꾸고 나머지는 0으로 바꾼다."
      ]
    },
    {
      "cell_type": "code",
      "metadata": {
        "id": "YZTbp_yqy9Tu"
      },
      "source": [
        "def score_multie(theta, x, y):\n",
        "    result = np.array([])\n",
        "    for i in theta:\n",
        "      logits = x.dot(i)              \n",
        "      Y_proba = sigmoid(logits)\n",
        "\n",
        "      if len(result) == 0:\n",
        "        result = np.append(result, np.array([Y_proba]))\n",
        "      else:\n",
        "        result = np.c_[result, Y_proba]\n",
        "    \n",
        "    for i in range(len(result)):\n",
        "      if np.max(result[i]) < 0.5:\n",
        "        result[i] = np.where(result[i] <= np.max(result[i]), 0, result[i])\n",
        "      else:\n",
        "        result[i] = np.where(result[i] < np.max(result[i]), 0, result[i])\n",
        "        result[i] = np.where(result[i] == np.max(result[i]), 1, result[i])\n",
        "      \n",
        "    accuracy_score = np.mean(result == y)  # 정확도 계산\n",
        "    return accuracy_score"
      ],
      "execution_count": 22,
      "outputs": []
    },
    {
      "cell_type": "markdown",
      "metadata": {
        "id": "O_JBVHxojHut"
      },
      "source": [
        "이진분류 보다는 정확도가 떨어졌다."
      ]
    },
    {
      "cell_type": "code",
      "metadata": {
        "colab": {
          "base_uri": "https://localhost:8080/"
        },
        "id": "bVcGSke3E_DG",
        "outputId": "c53d1d37-44c9-44a0-97a0-d4985fb5d29a"
      },
      "source": [
        "score_multie(best_theta.T, X_test, Y_test_one_hot)"
      ],
      "execution_count": 23,
      "outputs": [
        {
          "output_type": "execute_result",
          "data": {
            "text/plain": [
              "0.8333333333333334"
            ]
          },
          "metadata": {
            "tags": []
          },
          "execution_count": 23
        }
      ]
    },
    {
      "cell_type": "markdown",
      "metadata": {
        "id": "InQeJlEP3XoQ"
      },
      "source": [
        "#3. 사진 분류하기"
      ]
    },
    {
      "cell_type": "markdown",
      "metadata": {
        "id": "-C9k9HaD5Qst"
      },
      "source": [
        "##데이터 가져오기"
      ]
    },
    {
      "cell_type": "markdown",
      "metadata": {
        "id": "e3hW2ERf5Tr6"
      },
      "source": [
        "깃허브에 미리 100*100사이즈로 리사이징한 사진 100장을 저장해 놓았다.\n",
        "\n",
        "낮(실내)25장, 낮(실외)25장, 밤(실내)25장, 밤(실외)25장으로 구성되어있다.\n",
        "\n",
        "컬러 이미지는 R,G,B별로 각각 100*100사이즈의 특성을 가지는 3차원 어레이로 구성 되어있다.\n",
        "\n",
        "각 특성은 0~255사이의 값을 가지기 때문에 특성 값을 줄이기 위해 255로 나누었다.\n",
        "\n",
        "그리고 특성의 순서는 상관없기 때문에 다루기 쉽게 1차원으로 바꿔준다."
      ]
    },
    {
      "cell_type": "code",
      "metadata": {
        "id": "7EnGiGDYWjS2"
      },
      "source": [
        "import urllib.request\n",
        "import cv2\n",
        "\n",
        "img_set = np.zeros((1, 30000))\n",
        "\n",
        "DOWNLOAD_ROOT = \"https://raw.githubusercontent.com/min020/dataset/main/day_and_night/\"\n",
        "datapath = os.path.join(\"dataset\", \"day_indoor\", \"\")   #사진이 저장될 폴더명\n",
        "os.makedirs(datapath, exist_ok=True)\n",
        "for i in range(1, 26):     \n",
        "    filename = str(i) + \".jpg\"\n",
        "    url = DOWNLOAD_ROOT + \"day/day_indoor/\" + filename\n",
        "    urllib.request.urlretrieve(url, datapath + filename)\n",
        "    img = np.ravel(cv2.imread(datapath + str(i) + \".jpg\", cv2.IMREAD_COLOR)) / 255.0   #사진을 불러온후 ravel을 이용해 1차원으로 바꾼다.\n",
        "    img_set = np.concatenate((img_set, img.reshape(1, len(img))))    #1차원으로 바꾼 특성을 순서대로 저장한다.\n",
        "\n",
        "\n",
        "datapath = os.path.join(\"dataset\", \"day_outdoor\", \"\")\n",
        "os.makedirs(datapath, exist_ok=True)\n",
        "for i in range(26, 51):\n",
        "    filename = str(i) + \".jpg\"\n",
        "    url = DOWNLOAD_ROOT + \"day/day_outdoor/\" + filename\n",
        "    urllib.request.urlretrieve(url, datapath + filename)\n",
        "    img = np.ravel(cv2.imread(datapath + str(i) + \".jpg\", cv2.IMREAD_COLOR)) / 255.0\n",
        "    img_set = np.concatenate((img_set, img.reshape(1, len(img))))\n",
        "\n",
        "datapath = os.path.join(\"dataset\", \"night_indoor\", \"\")\n",
        "os.makedirs(datapath, exist_ok=True)\n",
        "for i in range(51, 76):\n",
        "    filename = str(i) + \".jpg\"\n",
        "    url = DOWNLOAD_ROOT + \"night/night_indoor/\" + filename\n",
        "    urllib.request.urlretrieve(url, datapath + filename)\n",
        "    img = np.ravel(cv2.imread(datapath + str(i) + \".jpg\", cv2.IMREAD_COLOR)) / 255.0\n",
        "    img_set = np.concatenate((img_set, img.reshape(1, len(img))))\n",
        "\n",
        "datapath = os.path.join(\"dataset\", \"night_outdoor\", \"\")\n",
        "os.makedirs(datapath, exist_ok=True)\n",
        "for i in range(76, 101):\n",
        "    filename = str(i) + \".jpg\"\n",
        "    url = DOWNLOAD_ROOT + \"night/night_outdoor/\" + filename\n",
        "    urllib.request.urlretrieve(url, datapath + filename)\n",
        "    img = np.ravel(cv2.imread(datapath + str(i) + \".jpg\", cv2.IMREAD_COLOR)) / 255.0\n",
        "    img_set = np.concatenate((img_set, img.reshape(1, len(img))))\n",
        "img_set = np.delete(img_set, 0, 0)"
      ],
      "execution_count": 24,
      "outputs": []
    },
    {
      "cell_type": "markdown",
      "metadata": {
        "id": "RdGx49ZQ8PcO"
      },
      "source": [
        "낮과 밤, 실내와 실외로 나누어 라벨링을 한다. 낮과 실내를 1로 설정했다."
      ]
    },
    {
      "cell_type": "code",
      "metadata": {
        "id": "bbuC7tNZHhQh"
      },
      "source": [
        "label_time = np.concatenate((np.tile(np.array([1]), (25)), np.tile(np.array([1]), (25)), np.tile(np.array([0]), (25)), np.tile(np.array([0]), (25))))\n",
        "label_place = np.concatenate((np.tile(np.array([1]), (25)), np.tile(np.array([0]), (25)), np.tile(np.array([1]), (25)), np.tile(np.array([0]), (25))))"
      ],
      "execution_count": 25,
      "outputs": []
    },
    {
      "cell_type": "code",
      "metadata": {
        "id": "8qpq7CrlLGHc"
      },
      "source": [
        "test_ratio = 0.2                                         # 테스트 세트 비율 = 20%\n",
        "validation_ratio = 0.2                                   # 검증 세트 비율 = 20%\n",
        "total_size = len(img_set)                            # 전체 데이터셋 크기\n",
        "\n",
        "test_size = int(total_size * test_ratio)                 # 테스트 세트 크기: 전체의 20%\n",
        "validation_size = int(total_size * validation_ratio)     # 검증 세트 크기: 전체의 20%\n",
        "train_size = total_size - test_size - validation_size    # 훈련 세트 크기: 전체의 60%\n",
        "\n",
        "rnd_indices = np.random.permutation(total_size)\n",
        "\n",
        "img_train = img_set[rnd_indices[:train_size]]\n",
        "time_train = label_time[rnd_indices[:train_size]]\n",
        "place_train = label_place[rnd_indices[:train_size]]\n",
        "time_train = time_train.reshape(len(time_train), 1)\n",
        "place_train = place_train.reshape(len(place_train), 1)\n",
        "\n",
        "img_valid = img_set[rnd_indices[train_size:-test_size]]\n",
        "time_valid = label_time[rnd_indices[train_size:-test_size]]\n",
        "place_valid = label_place[rnd_indices[train_size:-test_size]]\n",
        "time_valid = time_valid.reshape(len(time_valid), 1)\n",
        "place_valid = place_valid.reshape(len(place_valid), 1)\n",
        "\n",
        "img_test = img_set[rnd_indices[-test_size:]]\n",
        "time_test = label_time[rnd_indices[-test_size:]]\n",
        "place_test = label_place[rnd_indices[-test_size:]]\n",
        "time_test = time_test.reshape(len(time_test), 1)\n",
        "place_test = place_test.reshape(len(place_test), 1)"
      ],
      "execution_count": 26,
      "outputs": []
    },
    {
      "cell_type": "markdown",
      "metadata": {
        "id": "2nPaYKfR8v_q"
      },
      "source": [
        "##A. 낮과 밤으로 분류하는 로지스틱 회귀 모델"
      ]
    },
    {
      "cell_type": "markdown",
      "metadata": {
        "id": "ZDmckQsc9ZpR"
      },
      "source": [
        "1번에서 구현한 모델과 같지만 사진특성에는 편향을 추가해 주지 않았기 때문에 그레디언트 부분을 수정해서 다시 선언해준다."
      ]
    },
    {
      "cell_type": "code",
      "metadata": {
        "id": "Vfa9CTQ_-RdA"
      },
      "source": [
        "def custom_logistic(x_t, x_v, y_t, y_v, e, iter, alpha):\n",
        "  epsilon = 1e-7\n",
        "  best_loss = np.infty\n",
        "  best_theta = np.array([])\n",
        "  Theta = np.random.randn(x_t.shape[1], 1) * 0.01\n",
        "  count = 0\n",
        "\n",
        "  for iteration in range(iter):     \n",
        "      logits = x_t.dot(Theta)\n",
        "      Y_proba = sigmoid(logits)\n",
        "      Y_pro_train = np.array([]) \n",
        "\n",
        "      for i in Y_proba:\n",
        "        if i < 0.5:\n",
        "          Y_pro_train = np.append(Y_pro_train, np.array([0]))\n",
        "        else:\n",
        "          Y_pro_train = np.append(Y_pro_train, np.array([1]))\n",
        "      Y_pro_train = Y_pro_train.reshape(len(Y_pro_train), 1)\n",
        "\n",
        "      error = Y_pro_train - y_t    \n",
        "      gradients = 1/len(x_t) * x_t.T.dot(error) + alpha * Theta\n",
        "      Theta = Theta - e * gradients  \n",
        "\n",
        "      logits = x_v.dot(Theta)\n",
        "      Y_proba = sigmoid(logits)\n",
        "      Y_pro_valid = np.array([]) \n",
        "      for i in Y_proba:\n",
        "        if i < 0.5:\n",
        "          Y_pro_valid = np.append(Y_pro_valid, np.array([0]))\n",
        "        else:\n",
        "          Y_pro_valid = np.append(Y_pro_valid, np.array([1]))\n",
        "      Y_pro_valid = Y_pro_valid.reshape(len(Y_pro_valid), 1)\n",
        "\n",
        "      logistic_loss = -1/len(x_v) * (np.sum(y_v * np.log(Y_proba + epsilon) + (1 - y_v) * np.log(1 - Y_proba + epsilon)))\n",
        "      l2_loss = 1/2 * np.sum(np.square(Theta))  \n",
        "      loss = logistic_loss + alpha * l2_loss\n",
        "\n",
        "      if iteration % 500 == 0:    \n",
        "          print(iteration, loss)\n",
        "\n",
        "      if loss < best_loss:   \n",
        "          best_loss = loss\n",
        "          update_theta = Theta\n",
        "          best_iteration = iteration\n",
        "      else:\n",
        "          count = count + 1     \n",
        "          if count == 500:\n",
        "            print(best_iteration, best_loss)\n",
        "            print(iteration, loss, \"조기 종료!\")\n",
        "            best_theta = update_theta\n",
        "            break\n",
        "  return best_theta"
      ],
      "execution_count": 27,
      "outputs": []
    },
    {
      "cell_type": "code",
      "metadata": {
        "colab": {
          "base_uri": "https://localhost:8080/"
        },
        "id": "a0b0t-yIAQWv",
        "outputId": "559cf61a-a32e-47e0-cc10-f3fed2032607"
      },
      "source": [
        "best_theta_time = custom_logistic(img_train, img_valid, time_train, time_valid, 0.005, 5001, 0.1)"
      ],
      "execution_count": 28,
      "outputs": [
        {
          "output_type": "stream",
          "text": [
            "0 3.516324506958805\n",
            "500 0.741685141452624\n",
            "46 0.7384023240072761\n",
            "506 0.740791760665329 조기 종료!\n"
          ],
          "name": "stdout"
        }
      ]
    },
    {
      "cell_type": "code",
      "metadata": {
        "colab": {
          "base_uri": "https://localhost:8080/"
        },
        "id": "SqXDEeLh-VDp",
        "outputId": "0c02bc50-54e7-41ae-d9f4-77e58fc7bd39"
      },
      "source": [
        "score(img_test, time_test, best_theta_time)"
      ],
      "execution_count": 29,
      "outputs": [
        {
          "output_type": "execute_result",
          "data": {
            "text/plain": [
              "0.8"
            ]
          },
          "metadata": {
            "tags": []
          },
          "execution_count": 29
        }
      ]
    },
    {
      "cell_type": "markdown",
      "metadata": {
        "id": "UaE3I7gI-nKC"
      },
      "source": [
        "##B. 낮과 밤, 실내와 실외로 분류하는 다중 레이블 분류"
      ]
    },
    {
      "cell_type": "markdown",
      "metadata": {
        "id": "m7DEUzcIEp78"
      },
      "source": [
        "낮과 밤을 분류하도록 훈련된 세타값은 A번에서 가져온다.\n",
        "\n",
        "실내와 실외를 분류하는 정확도이다."
      ]
    },
    {
      "cell_type": "code",
      "metadata": {
        "colab": {
          "base_uri": "https://localhost:8080/"
        },
        "id": "XMtkQwDw-9Wk",
        "outputId": "246640da-b2e9-48dd-920e-8ca8544a5e05"
      },
      "source": [
        "best_theta_place = custom_logistic(img_train, img_valid, place_train, place_valid, 0.005, 5001, 0.1)"
      ],
      "execution_count": 30,
      "outputs": [
        {
          "output_type": "stream",
          "text": [
            "0 1.77084082891388\n",
            "500 1.1598873879153397\n",
            "7 0.9209910467744262\n",
            "502 1.1590067416079748 조기 종료!\n"
          ],
          "name": "stdout"
        }
      ]
    },
    {
      "cell_type": "code",
      "metadata": {
        "colab": {
          "base_uri": "https://localhost:8080/"
        },
        "id": "ROmApZKxFzoL",
        "outputId": "cff6a0e3-9d6f-4417-a7c9-cd7a8f1c85cd"
      },
      "source": [
        "score(img_test, place_test, best_theta_place)"
      ],
      "execution_count": 31,
      "outputs": [
        {
          "output_type": "execute_result",
          "data": {
            "text/plain": [
              "0.7"
            ]
          },
          "metadata": {
            "tags": []
          },
          "execution_count": 31
        }
      ]
    },
    {
      "cell_type": "markdown",
      "metadata": {
        "id": "lWDu0CnGFa_Z"
      },
      "source": [
        "낮과 밤, 실내와 실외를 모두 분류한 다중 레이블 분류의 정확도이다."
      ]
    },
    {
      "cell_type": "code",
      "metadata": {
        "colab": {
          "base_uri": "https://localhost:8080/"
        },
        "id": "C_5REWep_L-z",
        "outputId": "7ee2fcd8-9884-4a22-a7d2-19b522ca1b93"
      },
      "source": [
        "y = np.c_[time_test, place_test]\n",
        "\n",
        "logits = img_test.dot(best_theta_time)              \n",
        "Y_proba = sigmoid(logits)\n",
        "y_predict = np.array([])\n",
        "result = np.array([])\n",
        "for i in Y_proba:\n",
        "  if i < 0.5:\n",
        "    y_predict = np.append(y_predict, np.array([0]))\n",
        "  else:\n",
        "    y_predict = np.append(y_predict, np.array([1]))\n",
        "\n",
        "result = np.append(result, np.array([y_predict]))\n",
        "\n",
        "logits = img_test.dot(best_theta_place)              \n",
        "Y_proba = sigmoid(logits)\n",
        "y_predict = np.array([])\n",
        "for i in Y_proba:\n",
        "  if i < 0.5:\n",
        "    y_predict = np.append(y_predict, np.array([0]))\n",
        "  else:\n",
        "    y_predict = np.append(y_predict, np.array([1]))\n",
        "\n",
        "result = np.c_[result, y_predict]\n",
        "    \n",
        "\n",
        "accuracy_score = np.mean(result == y)\n",
        "accuracy_score"
      ],
      "execution_count": 32,
      "outputs": [
        {
          "output_type": "execute_result",
          "data": {
            "text/plain": [
              "0.75"
            ]
          },
          "metadata": {
            "tags": []
          },
          "execution_count": 32
        }
      ]
    },
    {
      "cell_type": "markdown",
      "metadata": {
        "id": "5tmmN8tNEJ9t"
      },
      "source": [
        "##C. 사이킷런에서 제공하는 LogisticRegression 모델과 성능 비교"
      ]
    },
    {
      "cell_type": "markdown",
      "metadata": {
        "id": "vrryC7DkkMPh"
      },
      "source": [
        "직접 구현한 로지스틱 회귀와 사이킷런에서 제공하는 로지스틱 회귀와 성능 비교를 해본다."
      ]
    },
    {
      "cell_type": "markdown",
      "metadata": {
        "id": "UekGU2LFGeOw"
      },
      "source": [
        "낮과 밤을 분류한 정확도이다."
      ]
    },
    {
      "cell_type": "code",
      "metadata": {
        "colab": {
          "base_uri": "https://localhost:8080/"
        },
        "id": "JeZ7YeypeR4G",
        "outputId": "bb9d906b-a60f-499f-e99a-244a4fc71e04"
      },
      "source": [
        "from sklearn.linear_model import LogisticRegression\n",
        "log_reg = LogisticRegression(solver=\"lbfgs\", random_state=42)\n",
        "log_reg.fit(img_train, time_train)"
      ],
      "execution_count": 33,
      "outputs": [
        {
          "output_type": "stream",
          "text": [
            "/usr/local/lib/python3.7/dist-packages/sklearn/utils/validation.py:760: DataConversionWarning: A column-vector y was passed when a 1d array was expected. Please change the shape of y to (n_samples, ), for example using ravel().\n",
            "  y = column_or_1d(y, warn=True)\n"
          ],
          "name": "stderr"
        },
        {
          "output_type": "execute_result",
          "data": {
            "text/plain": [
              "LogisticRegression(C=1.0, class_weight=None, dual=False, fit_intercept=True,\n",
              "                   intercept_scaling=1, l1_ratio=None, max_iter=100,\n",
              "                   multi_class='auto', n_jobs=None, penalty='l2',\n",
              "                   random_state=42, solver='lbfgs', tol=0.0001, verbose=0,\n",
              "                   warm_start=False)"
            ]
          },
          "metadata": {
            "tags": []
          },
          "execution_count": 33
        }
      ]
    },
    {
      "cell_type": "code",
      "metadata": {
        "id": "2QzXOnZRebMX"
      },
      "source": [
        "prediction = log_reg.predict(img_test)"
      ],
      "execution_count": 34,
      "outputs": []
    },
    {
      "cell_type": "code",
      "metadata": {
        "colab": {
          "base_uri": "https://localhost:8080/"
        },
        "id": "IaNZ-RcYgJ4i",
        "outputId": "d2c0c977-1503-42b8-ae6b-2c06a8c8d867"
      },
      "source": [
        "np.mean(prediction.reshape(len(prediction), 1) == time_test)"
      ],
      "execution_count": 35,
      "outputs": [
        {
          "output_type": "execute_result",
          "data": {
            "text/plain": [
              "0.9"
            ]
          },
          "metadata": {
            "tags": []
          },
          "execution_count": 35
        }
      ]
    },
    {
      "cell_type": "markdown",
      "metadata": {
        "id": "cQLER780FjD6"
      },
      "source": [
        "실내와 실외를 분류한 정확도이다."
      ]
    },
    {
      "cell_type": "code",
      "metadata": {
        "colab": {
          "base_uri": "https://localhost:8080/"
        },
        "id": "SdaxomeIgsD_",
        "outputId": "5ec771cf-3c21-4931-94a8-420efa9ed4e9"
      },
      "source": [
        "from sklearn.linear_model import LogisticRegression\n",
        "log_reg_place = LogisticRegression(solver=\"lbfgs\", random_state=42)\n",
        "log_reg_place.fit(img_train, place_train)"
      ],
      "execution_count": 36,
      "outputs": [
        {
          "output_type": "stream",
          "text": [
            "/usr/local/lib/python3.7/dist-packages/sklearn/utils/validation.py:760: DataConversionWarning: A column-vector y was passed when a 1d array was expected. Please change the shape of y to (n_samples, ), for example using ravel().\n",
            "  y = column_or_1d(y, warn=True)\n",
            "/usr/local/lib/python3.7/dist-packages/sklearn/linear_model/_logistic.py:940: ConvergenceWarning: lbfgs failed to converge (status=1):\n",
            "STOP: TOTAL NO. of ITERATIONS REACHED LIMIT.\n",
            "\n",
            "Increase the number of iterations (max_iter) or scale the data as shown in:\n",
            "    https://scikit-learn.org/stable/modules/preprocessing.html\n",
            "Please also refer to the documentation for alternative solver options:\n",
            "    https://scikit-learn.org/stable/modules/linear_model.html#logistic-regression\n",
            "  extra_warning_msg=_LOGISTIC_SOLVER_CONVERGENCE_MSG)\n"
          ],
          "name": "stderr"
        },
        {
          "output_type": "execute_result",
          "data": {
            "text/plain": [
              "LogisticRegression(C=1.0, class_weight=None, dual=False, fit_intercept=True,\n",
              "                   intercept_scaling=1, l1_ratio=None, max_iter=100,\n",
              "                   multi_class='auto', n_jobs=None, penalty='l2',\n",
              "                   random_state=42, solver='lbfgs', tol=0.0001, verbose=0,\n",
              "                   warm_start=False)"
            ]
          },
          "metadata": {
            "tags": []
          },
          "execution_count": 36
        }
      ]
    },
    {
      "cell_type": "code",
      "metadata": {
        "id": "kgjF59v5gy2i"
      },
      "source": [
        "prediction = log_reg_place.predict(img_test)"
      ],
      "execution_count": 37,
      "outputs": []
    },
    {
      "cell_type": "code",
      "metadata": {
        "colab": {
          "base_uri": "https://localhost:8080/"
        },
        "id": "NabfueZjg2A2",
        "outputId": "1be6e36e-62e0-43ce-9255-21c5cf5b6259"
      },
      "source": [
        "np.mean(prediction.reshape(len(prediction), 1) == place_test)"
      ],
      "execution_count": 38,
      "outputs": [
        {
          "output_type": "execute_result",
          "data": {
            "text/plain": [
              "0.75"
            ]
          },
          "metadata": {
            "tags": []
          },
          "execution_count": 38
        }
      ]
    },
    {
      "cell_type": "markdown",
      "metadata": {
        "id": "9lV7FI0bPWXv"
      },
      "source": [
        "사이킷런이 제공하는 로지스틱 회귀 모델이 더 좋은 성능을 보이긴 하지만 얼추 비슷하긴 하다. 직접 구현한 로지스틱 회귀 모델에서 조기종료 부분을 좀 더 손보면 성능이 더 높아질 것으로 예상된다."
      ]
    }
  ]
}