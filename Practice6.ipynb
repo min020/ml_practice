{
  "nbformat": 4,
  "nbformat_minor": 0,
  "metadata": {
    "colab": {
      "name": "Practice6.ipynb",
      "provenance": [],
      "collapsed_sections": []
    },
    "kernelspec": {
      "name": "python3",
      "display_name": "Python 3"
    },
    "language_info": {
      "name": "python"
    }
  },
  "cells": [
    {
      "cell_type": "code",
      "metadata": {
        "id": "S7yHW0uoCl05"
      },
      "source": [
        "# 파이썬 ≥3.5 필수\n",
        "import sys\n",
        "assert sys.version_info >= (3, 5)\n",
        "\n",
        "# 사이킷런 ≥0.20 필수\n",
        "import sklearn\n",
        "assert sklearn.__version__ >= \"0.22\"\n",
        "\n",
        "# 공통 모듈 임포트\n",
        "import numpy as np\n",
        "import os\n",
        "\n",
        "# 노트북 실행 결과를 동일하게 유지하기 위해\n",
        "np.random.seed(42)"
      ],
      "execution_count": null,
      "outputs": []
    },
    {
      "cell_type": "markdown",
      "metadata": {
        "id": "lMZgl75-EfSg"
      },
      "source": [
        "## 결정트리 모델 훈련"
      ]
    },
    {
      "cell_type": "markdown",
      "metadata": {
        "id": "nK5KDEGRGsLD"
      },
      "source": [
        "데이터는 moons데이터셋을 사용한다. 샘플수는 10000개에 잡음을 추가해주고 `train_test_split`를 사용해서 훈련세트와 테스트세트를 8:2비율로 나눠준다."
      ]
    },
    {
      "cell_type": "code",
      "metadata": {
        "id": "GWmTSqfvCWtE"
      },
      "source": [
        "from sklearn.datasets import make_moons\n",
        "from sklearn.model_selection import train_test_split\n",
        "\n",
        "X, y = make_moons(n_samples=10000, noise=0.4, random_state=42)\n",
        "X_train, X_test, y_train, y_test = train_test_split(X, y, test_size=0.2, random_state=42)"
      ],
      "execution_count": null,
      "outputs": []
    },
    {
      "cell_type": "markdown",
      "metadata": {
        "id": "3oo9TuUfErsh"
      },
      "source": [
        "엑스트라 트리는 랜덤 포레스트 모델 보다 무작위성이 더 추가된 모델이다. 그렇기 때문에 결정트리 모델의 `splitter`와 `max_features`를 바꿔준다. 그리고 다른 파라미터는 그리드 탐색으로 최적의 값을 찾아낸다.\n",
        "+ `max_leaf_nodes` : 리프 노드의 최대 개수\n",
        "+ `min_samples_split` : 노드 분할에 필요한 최소 샘플 개수\n",
        "+ `splitter` : 기본 값은 `best`이다. `best`일때는 노드를 분할 할때 특성의 최적 값을 찾아서 분할 하지만 `random`을 사용하면 특성 값을 무작위로 정한 후 최적의 분할을 하는 값을 선택하는 형식이다.\n",
        "+ `max_features` : 사용할 특성의 개수를 정한다. `auto`로 설정하면 $\\sqrt{특성 수}$ 만큼 무작위로 선택한다."
      ]
    },
    {
      "cell_type": "markdown",
      "metadata": {
        "id": "1YmMOjtm8r4l"
      },
      "source": [
        "사실 사이킷런에서 제공하는 앙상블 학습 모델인 `ExtraTreesClassifier`의 결정트리 모델이 `ExtraTreeClassifier`인데 `DecisionTreeClassifier`에서 `splitter`와 `max_features`를 `random`과 `auto`로 바꾼 것과 똑같다. 때문에 `DecisionTreeClassifier`대신 `ExtraTreeClassifier`를 써도 같은 결과가 나온다."
      ]
    },
    {
      "cell_type": "code",
      "metadata": {
        "id": "A2R4_qwmHLrG",
        "colab": {
          "base_uri": "https://localhost:8080/"
        },
        "outputId": "1d279ca0-528e-4731-dc76-40f4124d2380"
      },
      "source": [
        "from sklearn.model_selection import GridSearchCV\n",
        "from sklearn.tree import DecisionTreeClassifier\n",
        "\n",
        "params = {'max_leaf_nodes': list(range(2, 100)), 'min_samples_split': [2, 3, 4]}\n",
        "grid_search_cv = GridSearchCV(DecisionTreeClassifier(splitter='random', max_features='auto'), params, verbose=1, cv=3)\n",
        "\n",
        "grid_search_cv.fit(X_train, y_train)"
      ],
      "execution_count": null,
      "outputs": [
        {
          "output_type": "stream",
          "text": [
            "Fitting 3 folds for each of 294 candidates, totalling 882 fits\n"
          ],
          "name": "stdout"
        },
        {
          "output_type": "stream",
          "text": [
            "[Parallel(n_jobs=1)]: Using backend SequentialBackend with 1 concurrent workers.\n",
            "[Parallel(n_jobs=1)]: Done 882 out of 882 | elapsed:    2.2s finished\n"
          ],
          "name": "stderr"
        },
        {
          "output_type": "execute_result",
          "data": {
            "text/plain": [
              "GridSearchCV(cv=3, error_score=nan,\n",
              "             estimator=DecisionTreeClassifier(ccp_alpha=0.0, class_weight=None,\n",
              "                                              criterion='gini', max_depth=None,\n",
              "                                              max_features='auto',\n",
              "                                              max_leaf_nodes=None,\n",
              "                                              min_impurity_decrease=0.0,\n",
              "                                              min_impurity_split=None,\n",
              "                                              min_samples_leaf=1,\n",
              "                                              min_samples_split=2,\n",
              "                                              min_weight_fraction_leaf=0.0,\n",
              "                                              presort='deprecated',\n",
              "                                              random_state=None,\n",
              "                                              splitter='random'),\n",
              "             iid='deprecated', n_jobs=None,\n",
              "             param_grid={'max_leaf_nodes': [2, 3, 4, 5, 6, 7, 8, 9, 10, 11, 12,\n",
              "                                            13, 14, 15, 16, 17, 18, 19, 20, 21,\n",
              "                                            22, 23, 24, 25, 26, 27, 28, 29, 30,\n",
              "                                            31, ...],\n",
              "                         'min_samples_split': [2, 3, 4]},\n",
              "             pre_dispatch='2*n_jobs', refit=True, return_train_score=False,\n",
              "             scoring=None, verbose=1)"
            ]
          },
          "metadata": {
            "tags": []
          },
          "execution_count": 3
        }
      ]
    },
    {
      "cell_type": "markdown",
      "metadata": {
        "id": "As6Ql5U5oBXv"
      },
      "source": [
        "그리드 탐색으로 찾은 최적의 `max_leaf_nodes`와 `min_samples_split`의 값이다."
      ]
    },
    {
      "cell_type": "code",
      "metadata": {
        "id": "kFaH_kM9KI0_",
        "colab": {
          "base_uri": "https://localhost:8080/"
        },
        "outputId": "daaa48c6-fedf-4b56-b950-dad75cebf89c"
      },
      "source": [
        "grid_search_cv.best_estimator_"
      ],
      "execution_count": null,
      "outputs": [
        {
          "output_type": "execute_result",
          "data": {
            "text/plain": [
              "DecisionTreeClassifier(ccp_alpha=0.0, class_weight=None, criterion='gini',\n",
              "                       max_depth=None, max_features='auto', max_leaf_nodes=92,\n",
              "                       min_impurity_decrease=0.0, min_impurity_split=None,\n",
              "                       min_samples_leaf=1, min_samples_split=4,\n",
              "                       min_weight_fraction_leaf=0.0, presort='deprecated',\n",
              "                       random_state=None, splitter='random')"
            ]
          },
          "metadata": {
            "tags": []
          },
          "execution_count": 4
        }
      ]
    },
    {
      "cell_type": "markdown",
      "metadata": {
        "id": "uFk2yjUC09YF"
      },
      "source": [
        "## 엑스트라 트리 구현하기"
      ]
    },
    {
      "cell_type": "markdown",
      "metadata": {
        "id": "X1L11hCl7Yor"
      },
      "source": [
        "엑스트라 트리가 랜덤 포레스트와 또 다른 점은 bootstrap을 사용하지 않는 것이다. bootstrap을 사용하지 않으면 훈련 세트 전체를 사용하기 때문에 따로 샘플을 나누지 않고 앙상블 학습에 사용할 모델의 개수만 정한다."
      ]
    },
    {
      "cell_type": "code",
      "metadata": {
        "id": "vM0GO7F-_agt"
      },
      "source": [
        "from sklearn.base import clone\n",
        "from sklearn.metrics import accuracy_score\n",
        "\n",
        "n_trees = 1000\n",
        "extra_forest = [clone(grid_search_cv.best_estimator_) for _ in range(n_trees)]\n",
        "\n",
        "Y_pred = np.empty([n_trees, len(X_test)])\n",
        "\n",
        "for tree_index, tree in enumerate(extra_forest):\n",
        "    tree.fit(X_train, y_train)\n",
        "    Y_pred[tree_index] = tree.predict(X_test)"
      ],
      "execution_count": null,
      "outputs": []
    },
    {
      "cell_type": "markdown",
      "metadata": {
        "id": "83P5yDBkTjwL"
      },
      "source": [
        "`Y_pred`에 `X_test`세트의 샘플 개수인 2000개를 예측한 것이 1000개 들어가 있다. 이제 각 샘플마다 1000개의 모델들이 예측한 값 중 최빈값을 찾아야 하는데 `mode`를 사용하면 찾을 수 있다.\n",
        "+ `y_pred_majority_votes` : 각 샘플에 대한 최빈값\n",
        "+ `n_votes` : 최빈값의 빈도 수"
      ]
    },
    {
      "cell_type": "code",
      "metadata": {
        "id": "sHw8OG1WJzhP"
      },
      "source": [
        "from scipy.stats import mode\n",
        "\n",
        "y_pred_majority_votes, n_votes = mode(Y_pred, axis=0)"
      ],
      "execution_count": null,
      "outputs": []
    },
    {
      "cell_type": "markdown",
      "metadata": {
        "id": "D743V7GNfLUD"
      },
      "source": [
        "5개의 샘플만 살펴보면 1, 2번 샘플은 1로 많이 예측했고 3, 4, 5번 샘플은 0으로 많이 예측한 것을 알 수 있다."
      ]
    },
    {
      "cell_type": "code",
      "metadata": {
        "colab": {
          "base_uri": "https://localhost:8080/"
        },
        "id": "zqlR3RGqeuL0",
        "outputId": "0101f1f3-e34a-43e0-b6cb-de78523d737d"
      },
      "source": [
        "y_pred_majority_votes[0][:5]"
      ],
      "execution_count": null,
      "outputs": [
        {
          "output_type": "execute_result",
          "data": {
            "text/plain": [
              "array([1., 1., 0., 0., 0.])"
            ]
          },
          "metadata": {
            "tags": []
          },
          "execution_count": 7
        }
      ]
    },
    {
      "cell_type": "markdown",
      "metadata": {
        "id": "bQQoSeRlfrix"
      },
      "source": [
        "빈도수를 살펴보면 1000개의 모델중 몇개의 모델이 해당 값으로 예측했는지 알 수 있다."
      ]
    },
    {
      "cell_type": "code",
      "metadata": {
        "colab": {
          "base_uri": "https://localhost:8080/"
        },
        "id": "MFkDL_cae95R",
        "outputId": "f9fc0cac-2aea-457b-8364-952fc689ace8"
      },
      "source": [
        "n_votes[0][:5]"
      ],
      "execution_count": null,
      "outputs": [
        {
          "output_type": "execute_result",
          "data": {
            "text/plain": [
              "array([957, 996, 988, 997, 880])"
            ]
          },
          "metadata": {
            "tags": []
          },
          "execution_count": 8
        }
      ]
    },
    {
      "cell_type": "markdown",
      "metadata": {
        "id": "fw4Q8fptiJb-"
      },
      "source": [
        "## 모델 비교"
      ]
    },
    {
      "cell_type": "markdown",
      "metadata": {
        "id": "IknT7Tg0f4dK"
      },
      "source": [
        "사이킷런에서 제공하는 엑스트라 트리 모델, 배깅 모델과 직접 구현한 모델을 비교해 볼 것이다. 하이퍼 파라미터는 앞서 그리드 탐색에서 찾았던 하이퍼 파라미터와 똑같이 사용한다."
      ]
    },
    {
      "cell_type": "code",
      "metadata": {
        "id": "-FTUpBQigpHz"
      },
      "source": [
        "from sklearn.ensemble import ExtraTreesClassifier\n",
        "from sklearn.ensemble import BaggingClassifier\n",
        "\n",
        "ext_clf = ExtraTreesClassifier(n_estimators=1000, max_leaf_nodes=(grid_search_cv.best_estimator_.max_leaf_nodes),\n",
        "                               min_samples_split=(grid_search_cv.best_estimator_.min_samples_split), random_state=42)\n",
        "ext_clf.fit(X_train, y_train)\n",
        "\n",
        "bag_clf = BaggingClassifier(base_estimator=clone(grid_search_cv.best_estimator_), n_estimators=1000, bootstrap=False)\n",
        "bag_clf.fit(X_train, y_train)\n",
        "\n",
        "bag_pred = bag_clf.predict(X_test)\n",
        "y_pred_ext = ext_clf.predict(X_test)"
      ],
      "execution_count": null,
      "outputs": []
    },
    {
      "cell_type": "markdown",
      "metadata": {
        "id": "CkW-vK-Y-3P4"
      },
      "source": [
        "사이킷런에서 제공하는 엑스트라 트리 모델의 정확도이다."
      ]
    },
    {
      "cell_type": "code",
      "metadata": {
        "colab": {
          "base_uri": "https://localhost:8080/"
        },
        "id": "vpU7Rqc9hiFq",
        "outputId": "1eaccd86-077a-4af6-9841-f0db37bd5dd6"
      },
      "source": [
        "accuracy_score(y_test, y_pred_ext)"
      ],
      "execution_count": null,
      "outputs": [
        {
          "output_type": "execute_result",
          "data": {
            "text/plain": [
              "0.872"
            ]
          },
          "metadata": {
            "tags": []
          },
          "execution_count": 10
        }
      ]
    },
    {
      "cell_type": "markdown",
      "metadata": {
        "id": "Ym2DLjqw-68T"
      },
      "source": [
        "배깅 모델의 정확도이다."
      ]
    },
    {
      "cell_type": "code",
      "metadata": {
        "colab": {
          "base_uri": "https://localhost:8080/"
        },
        "id": "HTMFJ18P0hwr",
        "outputId": "de5f9a49-b084-42b4-991f-672fb7fa963b"
      },
      "source": [
        "accuracy_score(y_test, bag_pred)"
      ],
      "execution_count": null,
      "outputs": [
        {
          "output_type": "execute_result",
          "data": {
            "text/plain": [
              "0.873"
            ]
          },
          "metadata": {
            "tags": []
          },
          "execution_count": 11
        }
      ]
    },
    {
      "cell_type": "markdown",
      "metadata": {
        "id": "98aTbg38i1SL"
      },
      "source": [
        "사이킷런의 엑스트라 트리 모델과 배깅 모델의 정확도는 약 87퍼센트가 나왔다. 이제 직접 구현한 랜덤 포레스트 모델의 정확도를 측정해본다."
      ]
    },
    {
      "cell_type": "code",
      "metadata": {
        "colab": {
          "base_uri": "https://localhost:8080/"
        },
        "id": "m_WZxXVm_CwU",
        "outputId": "6983d6ef-82d9-47b8-955f-186684d7d723"
      },
      "source": [
        "accuracy_score(y_test, y_pred_majority_votes.T)"
      ],
      "execution_count": null,
      "outputs": [
        {
          "output_type": "execute_result",
          "data": {
            "text/plain": [
              "0.8725"
            ]
          },
          "metadata": {
            "tags": []
          },
          "execution_count": 12
        }
      ]
    },
    {
      "cell_type": "markdown",
      "metadata": {
        "id": "iPLU8deX_H0X"
      },
      "source": [
        "약 87퍼센트로 거의 유사하게 나왔다. 그러면 얼마나 비슷하게 예측했는지 예측값끼리 비교해본다."
      ]
    },
    {
      "cell_type": "code",
      "metadata": {
        "colab": {
          "base_uri": "https://localhost:8080/"
        },
        "id": "QXxsRCXU_oRm",
        "outputId": "309de921-954c-4470-d7f8-6480605672cf"
      },
      "source": [
        "accuracy_score(y_pred_ext, y_pred_majority_votes.T)"
      ],
      "execution_count": null,
      "outputs": [
        {
          "output_type": "execute_result",
          "data": {
            "text/plain": [
              "0.9955"
            ]
          },
          "metadata": {
            "tags": []
          },
          "execution_count": 13
        }
      ]
    },
    {
      "cell_type": "code",
      "metadata": {
        "colab": {
          "base_uri": "https://localhost:8080/"
        },
        "id": "X1nqhYBzKBC3",
        "outputId": "d0f25fa7-6b04-4321-de2f-51c1cb5f73ac"
      },
      "source": [
        "accuracy_score(bag_pred, y_pred_majority_votes.T)"
      ],
      "execution_count": null,
      "outputs": [
        {
          "output_type": "execute_result",
          "data": {
            "text/plain": [
              "0.9955"
            ]
          },
          "metadata": {
            "tags": []
          },
          "execution_count": 14
        }
      ]
    },
    {
      "cell_type": "markdown",
      "metadata": {
        "id": "HOryGjI_jDL5"
      },
      "source": [
        "거의 똑같이 예측한 것으로 보인다. 그럼 이번에는 다르게 예측한 샘플의 빈도수를 확인해본다."
      ]
    },
    {
      "cell_type": "code",
      "metadata": {
        "colab": {
          "base_uri": "https://localhost:8080/"
        },
        "id": "e26fA8OUAGE5",
        "outputId": "041a3661-b93c-4e34-d761-8ed49fcccad2"
      },
      "source": [
        "votes_list = []\n",
        "for index, (i, j) in enumerate(zip(y_pred_ext, y_pred_majority_votes.T)):\n",
        "  if i != j:\n",
        "    votes_list.append(n_votes[0][index])\n",
        "\n",
        "votes_list"
      ],
      "execution_count": null,
      "outputs": [
        {
          "output_type": "execute_result",
          "data": {
            "text/plain": [
              "[550, 510, 532, 525, 508, 522, 507, 513, 521]"
            ]
          },
          "metadata": {
            "tags": []
          },
          "execution_count": 15
        }
      ]
    },
    {
      "cell_type": "markdown",
      "metadata": {
        "id": "e36ShyjOBqOQ"
      },
      "source": [
        "빈도수를 살펴보니 500근처의 값이 나왔다. 1000개의 모델도 확실하게 결정하기 어려운 샘플인 것 같다. 3개의 모델의 정확도가 조금씩 다른것도 아마 저 샘플들 때문이 아닐까 싶다."
      ]
    }
  ]
}