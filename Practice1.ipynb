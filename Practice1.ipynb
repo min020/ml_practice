{
  "nbformat": 4,
  "nbformat_minor": 0,
  "metadata": {
    "colab": {
      "name": "Practice1.ipynb",
      "provenance": [],
      "collapsed_sections": []
    },
    "kernelspec": {
      "name": "python3",
      "display_name": "Python 3"
    }
  },
  "cells": [
    {
      "cell_type": "markdown",
      "metadata": {
        "id": "M3Xt54Dfmsht"
      },
      "source": [
        "2017250004 김민규"
      ]
    },
    {
      "cell_type": "markdown",
      "metadata": {
        "id": "NQlZjsOTBFnE"
      },
      "source": [
        "##기본설정"
      ]
    },
    {
      "cell_type": "code",
      "metadata": {
        "id": "44mnSPr0c9a9"
      },
      "source": [
        "import sys\n",
        "assert sys.version_info >= (3, 5)\n",
        "\n",
        "import sklearn\n",
        "assert sklearn.__version__ >= \"0.20\"\n",
        "\n",
        "%matplotlib inline \n",
        "\n",
        "import matplotlib as mpl\n",
        "mpl.rc('axes', labelsize=14)\n",
        "mpl.rc('xtick', labelsize=12)\n",
        "mpl.rc('ytick', labelsize=12)\n",
        "\n",
        "import matplotlib.pyplot as plt\n",
        "import numpy as np\n",
        "import pandas as pd\n",
        "import os\n",
        "\n",
        "np.random.seed(11)"
      ],
      "execution_count": null,
      "outputs": []
    },
    {
      "cell_type": "markdown",
      "metadata": {
        "id": "IXkZ5sZ-ZGww"
      },
      "source": [
        "##데이터 준비"
      ]
    },
    {
      "cell_type": "markdown",
      "metadata": {
        "id": "FdH1pB7qBKOL"
      },
      "source": [
        "삶의 만족도와 1인당 GDP내용을 가지고 있는 데이터를 다운받는다."
      ]
    },
    {
      "cell_type": "code",
      "metadata": {
        "colab": {
          "base_uri": "https://localhost:8080/"
        },
        "id": "VRifxk3LdKPW",
        "outputId": "4127004f-3465-4425-c032-9422ee036d83"
      },
      "source": [
        "datapath = os.path.join(\"notebooks\", \"datasets\", \"lifesat\", \"\")\n",
        "\n",
        "import urllib.request\n",
        "DOWNLOAD_ROOT = \"https://raw.githubusercontent.com/codingalzi/handson-ml/master/\"\n",
        "os.makedirs(datapath, exist_ok=True)\n",
        "for filename in (\"oecd_bli_2020.csv\", \"gdp_per_capita_2020.xlsx\"):\n",
        "    print(\"다운로드:\", filename)\n",
        "    url = DOWNLOAD_ROOT + \"notebooks/datasets/lifesat/\" + filename\n",
        "    urllib.request.urlretrieve(url, datapath + filename)"
      ],
      "execution_count": null,
      "outputs": [
        {
          "output_type": "stream",
          "text": [
            "다운로드: oecd_bli_2020.csv\n",
            "다운로드: gdp_per_capita_2020.xlsx\n"
          ],
          "name": "stdout"
        }
      ]
    },
    {
      "cell_type": "markdown",
      "metadata": {
        "id": "SeFtp3O3Bp3p"
      },
      "source": [
        "csv파일과 xlsx파일을 읽어와서 보기 편하게 데이터셋으로 만든다. \"INEQUALITY\" 특성이 \"TOT\"로 정해진 데이터만 가져온 후에 pivot() 메서드를 이용하여 국가별 삶의 질을 평가하는 데에 사용되는 지표(\"Indicator\")를 열(columns)로 사용하는 데이터프레임으로 저장한다. "
      ]
    },
    {
      "cell_type": "code",
      "metadata": {
        "id": "L5ADRwsCdizl"
      },
      "source": [
        "oecd_bli = pd.read_csv(datapath + \"oecd_bli_2020.csv\", thousands=',')\n",
        "oecd_bli = oecd_bli[oecd_bli[\"INEQUALITY\"]==\"TOT\"]\n",
        "oecd_bli = oecd_bli.pivot(index=\"Country\", columns=\"Indicator\", values=\"Value\")"
      ],
      "execution_count": null,
      "outputs": []
    },
    {
      "cell_type": "code",
      "metadata": {
        "id": "z0IV4Xrsh7gm"
      },
      "source": [
        "gdp_per_capita = pd.read_excel(datapath+\"gdp_per_capita_2020.xlsx\", thousands=',', na_values=\"n/a\")\n",
        "gdp_per_capita.rename(columns={2020: \"GDP per capita\"}, inplace=True) # 2020 컬럼 이름을 \"GDP per capita\" 로 변경 \n",
        "gdp_per_capita.set_index(\"Country\", inplace=True)"
      ],
      "execution_count": null,
      "outputs": []
    },
    {
      "cell_type": "markdown",
      "metadata": {
        "id": "TLk_Qu-qB58H"
      },
      "source": [
        "두 데이터셋을 병합시킨다."
      ]
    },
    {
      "cell_type": "code",
      "metadata": {
        "id": "KAtM4OAPiMJ3"
      },
      "source": [
        "full_country_stats = pd.merge(left=oecd_bli, right=gdp_per_capita, left_index=True, right_index=True)\n",
        "full_country_stats.sort_values(by=\"GDP per capita\", inplace=True)"
      ],
      "execution_count": null,
      "outputs": []
    },
    {
      "cell_type": "markdown",
      "metadata": {
        "id": "fvmOEx1tZNvc"
      },
      "source": [
        "##선형 관계"
      ]
    },
    {
      "cell_type": "markdown",
      "metadata": {
        "id": "3k7oSHr8B8j_"
      },
      "source": [
        "뒤에서 모델의 적합성을 살펴보기 위해 고의로 7개 국가의 데이터를 제외 시킨다."
      ]
    },
    {
      "cell_type": "code",
      "metadata": {
        "id": "lhY-VFNNjjW_"
      },
      "source": [
        "remove_indices = [1, 2, 4, 6, 37, 38, 39]\n",
        "keep_indices = list(set(range(40)) - set(remove_indices))\n",
        "\n",
        "# 7개 국가를 제외한 국가들의 1인당 GDP와 삶의 만족도 데이터\n",
        "sample_data = full_country_stats[[\"GDP per capita\", 'Life satisfaction']].iloc[keep_indices] \n",
        "\n",
        "# 제외된 7개 국가의 1인당 GGP와 삶의 만족도 데이터\n",
        "missing_data = full_country_stats[[\"GDP per capita\", 'Life satisfaction']].iloc[remove_indices]"
      ],
      "execution_count": null,
      "outputs": []
    },
    {
      "cell_type": "markdown",
      "metadata": {
        "id": "SJZ4rpkAC6N2"
      },
      "source": [
        "제외된 7개 국가의 데이터를 제외한 국가들의 1인당 GDP와 삶의 만족도 사이의 관계를 산점도로 나타낸다. 아래에 언급된 5개 국가는 빨간색 점으로 표시한다.\n",
        "\n",
        "헝가리(Hungary)\n",
        "\n",
        "대한민국(Korea)\n",
        "\n",
        "프랑스(France)\n",
        "\n",
        "호주(Australia)\n",
        "\n",
        "미국(United States)"
      ]
    },
    {
      "cell_type": "code",
      "metadata": {
        "colab": {
          "base_uri": "https://localhost:8080/",
          "height": 237
        },
        "id": "h2PQqbSsj_kt",
        "outputId": "fb72c862-0e3e-47c5-b8c5-cee82be62807"
      },
      "source": [
        "sample_data.plot(kind='scatter', x=\"GDP per capita\", y='Life satisfaction', figsize=(5,3))\n",
        "plt.axis([0, 70000, 0, 10])\n",
        "\n",
        "# 언급된 5개 국가명 명기 좌표\n",
        "position_text = {\n",
        "  \"Hungary\": (8000, 1),\n",
        "  \"Korea\": (26000, 1.7),\n",
        "  \"France\": (34000, 2.4),\n",
        "  \"Australia\": (44000, 3.0),\n",
        "  \"United States\": (60000, 3.8),\n",
        "}\n",
        "\n",
        "# 5개 국가는 좌표를 이용하여 빨강색 점으로 표기\n",
        "for country, pos_text in position_text.items():\n",
        "    pos_data_x, pos_data_y = sample_data.loc[country]\n",
        "    # 5개 국가명 표기\n",
        "    country = \"U.S.\" if country == \"United States\" else country\n",
        "    plt.annotate(country, xy=(pos_data_x, pos_data_y), xytext=pos_text,\n",
        "            arrowprops=dict(facecolor='black', width=0.5, shrink=0.1, headwidth=5))\n",
        "    # 5개 국가 산점도 그리기\n",
        "    plt.plot(pos_data_x, pos_data_y, \"ro\")\n",
        "plt.xlabel(\"GDP per capita (USD)\")\n",
        "plt.show()"
      ],
      "execution_count": null,
      "outputs": [
        {
          "output_type": "display_data",
          "data": {
            "image/png": "[encoded data removed]",
            "text/plain": [
              "<Figure size 360x216 with 1 Axes>"
            ]
          },
          "metadata": {
            "tags": [],
            "needs_background": "light"
          }
        }
      ]
    },
    {
      "cell_type": "markdown",
      "metadata": {
        "id": "kTfva52iDX8I"
      },
      "source": [
        "언급된 5개 국가의 1인당 GDP와 삶의 만족도를 데이터에서 직접 확인해본다."
      ]
    },
    {
      "cell_type": "code",
      "metadata": {
        "colab": {
          "base_uri": "https://localhost:8080/",
          "height": 235
        },
        "id": "jKJObcTHkJMD",
        "outputId": "ca011bc0-711a-44c1-f3b4-93deaaa6a281"
      },
      "source": [
        "sample_data.loc[list(position_text.keys())]"
      ],
      "execution_count": null,
      "outputs": [
        {
          "output_type": "execute_result",
          "data": {
            "text/html": [
              "<div>\n",
              "<style scoped>\n",
              "    .dataframe tbody tr th:only-of-type {\n",
              "        vertical-align: middle;\n",
              "    }\n",
              "\n",
              "    .dataframe tbody tr th {\n",
              "        vertical-align: top;\n",
              "    }\n",
              "\n",
              "    .dataframe thead th {\n",
              "        text-align: right;\n",
              "    }\n",
              "</style>\n",
              "<table border=\"1\" class=\"dataframe\">\n",
              "  <thead>\n",
              "    <tr style=\"text-align: right;\">\n",
              "      <th></th>\n",
              "      <th>GDP per capita</th>\n",
              "      <th>Life satisfaction</th>\n",
              "    </tr>\n",
              "    <tr>\n",
              "      <th>Country</th>\n",
              "      <th></th>\n",
              "      <th></th>\n",
              "    </tr>\n",
              "  </thead>\n",
              "  <tbody>\n",
              "    <tr>\n",
              "      <th>Hungary</th>\n",
              "      <td>15372.885</td>\n",
              "      <td>5.6</td>\n",
              "    </tr>\n",
              "    <tr>\n",
              "      <th>Korea</th>\n",
              "      <td>30644.427</td>\n",
              "      <td>5.9</td>\n",
              "    </tr>\n",
              "    <tr>\n",
              "      <th>France</th>\n",
              "      <td>39257.434</td>\n",
              "      <td>6.5</td>\n",
              "    </tr>\n",
              "    <tr>\n",
              "      <th>Australia</th>\n",
              "      <td>51885.466</td>\n",
              "      <td>7.3</td>\n",
              "    </tr>\n",
              "    <tr>\n",
              "      <th>United States</th>\n",
              "      <td>63051.398</td>\n",
              "      <td>6.9</td>\n",
              "    </tr>\n",
              "  </tbody>\n",
              "</table>\n",
              "</div>"
            ],
            "text/plain": [
              "               GDP per capita  Life satisfaction\n",
              "Country                                         \n",
              "Hungary             15372.885                5.6\n",
              "Korea               30644.427                5.9\n",
              "France              39257.434                6.5\n",
              "Australia           51885.466                7.3\n",
              "United States       63051.398                6.9"
            ]
          },
          "metadata": {
            "tags": []
          },
          "execution_count": 8
        }
      ]
    },
    {
      "cell_type": "markdown",
      "metadata": {
        "id": "Oq1hipKODou-"
      },
      "source": [
        "위에서 살펴본 산점도에 따르면 어느정도 선형 관계를 가지는 것으로 보인다. 아래에서는 파란색 실선이 가장 적합해 보인다."
      ]
    },
    {
      "cell_type": "code",
      "metadata": {
        "colab": {
          "base_uri": "https://localhost:8080/",
          "height": 237
        },
        "id": "FmUN7UWDk4HQ",
        "outputId": "d2c5301d-3808-4746-f476-4d134fb694b4"
      },
      "source": [
        "sample_data.plot(kind='scatter', x=\"GDP per capita\", y='Life satisfaction', figsize=(5,3))\n",
        "plt.xlabel(\"GDP per capita (USD)\")\n",
        "plt.axis([0, 60000, 0, 10])\n",
        "X=np.linspace(0, 60000, 1000)\n",
        "plt.plot(X, 2*X/100000, \"r\")\n",
        "plt.text(40000, 2.7, r\"$\\theta_0 = 0$\", fontsize=14, color=\"r\")\n",
        "plt.text(40000, 1.8, r\"$\\theta_1 = 2 \\times 10^{-5}$\", fontsize=14, color=\"r\")\n",
        "plt.plot(X, 8 - 5*X/100000, \"g\")\n",
        "plt.text(5000, 9.1, r\"$\\theta_0 = 8$\", fontsize=14, color=\"g\")\n",
        "plt.text(5000, 8.2, r\"$\\theta_1 = -5 \\times 10^{-5}$\", fontsize=14, color=\"g\")\n",
        "plt.plot(X, 5 + 5*X/100000, \"b\")\n",
        "plt.text(5000, 3.5, r\"$\\theta_0 = 5$\", fontsize=14, color=\"b\")\n",
        "plt.text(5000, 2.6, r\"$\\theta_1 = 5 \\times 10^{-5}$\", fontsize=14, color=\"b\")\n",
        "plt.show()"
      ],
      "execution_count": null,
      "outputs": [
        {
          "output_type": "display_data",
          "data": {
            "image/png": "[encoded data removed]",
            "text/plain": [
              "<Figure size 360x216 with 1 Axes>"
            ]
          },
          "metadata": {
            "tags": [],
            "needs_background": "light"
          }
        }
      ]
    },
    {
      "cell_type": "markdown",
      "metadata": {
        "id": "eUEUxfMmZgXt"
      },
      "source": [
        "##선형 회귀 모델 훈련"
      ]
    },
    {
      "cell_type": "markdown",
      "metadata": {
        "id": "25dq1sNEJgSN"
      },
      "source": [
        "삶의 만족도는 다음과 같이 표현할 수 있다.   \n",
        "\n",
        "$$\n",
        "\\text{삶의만족도} = \\theta_0 + \\theta_1 \\times \\text{1인당GDP}\n",
        "$$\n",
        "저 절편과 기울기를 사이킷런 패키지의 `linear_model` 모듈에 포함된 `LinearRegression` 클래스를 활용하여 학습시킬 예정이다.   \n",
        "다음 코드는 1인당 GDP를 통해 삶의 만족도를 예측하는 훈련을 진행한다."
      ]
    },
    {
      "cell_type": "code",
      "metadata": {
        "colab": {
          "base_uri": "https://localhost:8080/"
        },
        "id": "-0e6uHDFlB4w",
        "outputId": "3e01d9a3-699d-4c0a-c617-7ad2fbacd161"
      },
      "source": [
        "from sklearn import linear_model\n",
        "\n",
        "# 선형회귀 모델 지정\n",
        "lin1 = linear_model.LinearRegression()\n",
        "\n",
        "# 훈련 데이터셋 지정\n",
        "Xsample = np.c_[sample_data[\"GDP per capita\"]]\n",
        "ysample = np.c_[sample_data[\"Life satisfaction\"]]\n",
        "\n",
        "# 모델 훈련\n",
        "lin1.fit(Xsample, ysample)"
      ],
      "execution_count": null,
      "outputs": [
        {
          "output_type": "execute_result",
          "data": {
            "text/plain": [
              "LinearRegression(copy_X=True, fit_intercept=True, n_jobs=None, normalize=False)"
            ]
          },
          "metadata": {
            "tags": []
          },
          "execution_count": 10
        }
      ]
    },
    {
      "cell_type": "markdown",
      "metadata": {
        "id": "D4eWa71eLNu3"
      },
      "source": [
        "훈련한 모델의 최적의 절편과 기울기는 각각 `intercept_[0]`, `coef_[0]`에 저장된다."
      ]
    },
    {
      "cell_type": "code",
      "metadata": {
        "colab": {
          "base_uri": "https://localhost:8080/"
        },
        "id": "QHJTTV8Wlgrt",
        "outputId": "915691ab-81e3-4738-d933-a8855409dc62"
      },
      "source": [
        "# 예측된 최적의 직선에 대한 정보: 절편과 기울기\n",
        "t0, t1 = lin1.intercept_[0], lin1.coef_[0][0]\n",
        "\n",
        "t0, t1"
      ],
      "execution_count": null,
      "outputs": [
        {
          "output_type": "execute_result",
          "data": {
            "text/plain": [
              "(5.071121853750363, 4.1410177424136694e-05)"
            ]
          },
          "metadata": {
            "tags": []
          },
          "execution_count": 11
        }
      ]
    },
    {
      "cell_type": "markdown",
      "metadata": {
        "id": "b6Vbh3xLLjnq"
      },
      "source": [
        "구해진 절편과 기울기를 이용해서 직선을 그려보면 다음과 같다. 위에서 임의로 지정한 직선도 비슷했지만 학습된 절편과 기울기로 그린 직선이 더 정확해 보인다."
      ]
    },
    {
      "cell_type": "code",
      "metadata": {
        "colab": {
          "base_uri": "https://localhost:8080/",
          "height": 237
        },
        "id": "E-xym0drljxP",
        "outputId": "94e295d5-a8f4-43f9-8f21-2cf1eb9748b4"
      },
      "source": [
        "# 산점도\n",
        "sample_data.plot(kind='scatter', x=\"GDP per capita\", y='Life satisfaction', figsize=(5,3))\n",
        "plt.xlabel(\"GDP per capita (USD)\")\n",
        "plt.axis([0, 70000, 0, 10])\n",
        "\n",
        "# 직선 그리기\n",
        "X=np.linspace(0, 70000, 1000)\n",
        "plt.plot(X, t0 + t1*X, \"b\")\n",
        "# 직선의 절편과 기울기 정보 명시\n",
        "plt.text(5000, 3.1, r\"$\\theta_0 = 5.07$\", fontsize=14, color=\"b\")\n",
        "plt.text(5000, 2.2, r\"$\\theta_1 = 4.14 \\times 10^{-5}$\", fontsize=14, color=\"b\")\n",
        "\n",
        "plt.show()"
      ],
      "execution_count": null,
      "outputs": [
        {
          "output_type": "display_data",
          "data": {
            "image/png": "[encoded data removed]",
            "text/plain": [
              "<Figure size 360x216 with 1 Axes>"
            ]
          },
          "metadata": {
            "tags": [],
            "needs_background": "light"
          }
        }
      ]
    },
    {
      "cell_type": "markdown",
      "metadata": {
        "id": "cHPcTjxSP0OJ"
      },
      "source": [
        "키프러스(cyprus)라는 나라는 1인당 GDP만 알려져있는데 이를 통해 삶의 만족도를 예측하면 다음과 같다."
      ]
    },
    {
      "cell_type": "code",
      "metadata": {
        "colab": {
          "base_uri": "https://localhost:8080/"
        },
        "id": "jiLBSrPAlmux",
        "outputId": "d0bdfe40-2d2c-4531-bba8-1d668dbd8409"
      },
      "source": [
        "cyprus_gdp_per_capita = gdp_per_capita.loc[\"Cyprus\"][\"GDP per capita\"]\n",
        "print(cyprus_gdp_per_capita)"
      ],
      "execution_count": null,
      "outputs": [
        {
          "output_type": "stream",
          "text": [
            "26240.048\n"
          ],
          "name": "stdout"
        }
      ]
    },
    {
      "cell_type": "markdown",
      "metadata": {
        "id": "DpZ88d4MP_U1"
      },
      "source": [
        "`predict`메소드를 이용하여 예측해보면 약 6.16정도로 예측된다."
      ]
    },
    {
      "cell_type": "code",
      "metadata": {
        "colab": {
          "base_uri": "https://localhost:8080/"
        },
        "id": "Nn8MrF6Rlrkj",
        "outputId": "59efbeb1-1e35-486a-c4a9-9dfbcfde4ca2"
      },
      "source": [
        "cyprus_predicted_life_satisfaction = lin1.predict([[cyprus_gdp_per_capita]])[0][0]\n",
        "cyprus_predicted_life_satisfaction"
      ],
      "execution_count": null,
      "outputs": [
        {
          "output_type": "execute_result",
          "data": {
            "text/plain": [
              "6.157726897048226"
            ]
          },
          "metadata": {
            "tags": []
          },
          "execution_count": 14
        }
      ]
    },
    {
      "cell_type": "markdown",
      "metadata": {
        "id": "FsTGvrz6QR5A"
      },
      "source": [
        "예측값은 위에서 그렸던 직선상에 정확히 위치하는 것을 볼 수 있다."
      ]
    },
    {
      "cell_type": "code",
      "metadata": {
        "colab": {
          "base_uri": "https://localhost:8080/",
          "height": 237
        },
        "id": "DTA_c-znluah",
        "outputId": "7e6c61c6-2247-441b-c91b-85471e02bac1"
      },
      "source": [
        "sample_data.plot(kind='scatter', x=\"GDP per capita\", y='Life satisfaction', figsize=(5,3), s=1)\n",
        "plt.xlabel(\"GDP per capita (USD)\")\n",
        "\n",
        "# 예측된 최적의 직선\n",
        "X=np.linspace(0, 70000, 1000)\n",
        "plt.plot(X, t0 + t1*X, \"b\")\n",
        "plt.axis([0, 70000, 0, 10])\n",
        "plt.text(5000, 7.5, r\"$\\theta_0 = 5.07$\", fontsize=14, color=\"b\")\n",
        "plt.text(5000, 6.6, r\"$\\theta_1 = 4.14 \\times 10^{-5}$\", fontsize=14, color=\"b\")\n",
        "\n",
        "# 키프러스에 대한 삶의 만족도 예측값\n",
        "\n",
        "# 빨간 점선 그리기\n",
        "plt.plot([cyprus_gdp_per_capita, cyprus_gdp_per_capita], [0, cyprus_predicted_life_satisfaction], \"r--\")\n",
        "plt.text(27000, 5.0, r\"Prediction = 6.16\", fontsize=14, color=\"b\")\n",
        "\n",
        "# 예측 지점 좌표 찍기(빨간색)\n",
        "plt.plot(cyprus_gdp_per_capita, cyprus_predicted_life_satisfaction, \"ro\")\n",
        "plt.show()"
      ],
      "execution_count": null,
      "outputs": [
        {
          "output_type": "display_data",
          "data": {
            "image/png": "[encoded data removed]",
            "text/plain": [
              "<Figure size 360x216 with 1 Axes>"
            ]
          },
          "metadata": {
            "tags": [],
            "needs_background": "light"
          }
        }
      ]
    },
    {
      "cell_type": "markdown",
      "metadata": {
        "id": "u6ZjK43dZr5j"
      },
      "source": [
        "##대표성 없는 훈련 데이터"
      ]
    },
    {
      "cell_type": "markdown",
      "metadata": {
        "id": "sYWe9BcoSVlV"
      },
      "source": [
        "앞서 7개 국가의 데이터를 훈련에서 제외시킨 후에 선형회귀 모델을 훈련시켰다.\n",
        "이제 7개 국가를 포함해서 훈련시켜 볼 것이다.\n",
        "제외된 7개 국가의 데이터는 다음과 같다."
      ]
    },
    {
      "cell_type": "code",
      "metadata": {
        "colab": {
          "base_uri": "https://localhost:8080/",
          "height": 297
        },
        "id": "sBN1tyyXlxVz",
        "outputId": "199dd56a-e77c-47c3-8cc7-b181c232276b"
      },
      "source": [
        "missing_data"
      ],
      "execution_count": null,
      "outputs": [
        {
          "output_type": "execute_result",
          "data": {
            "text/html": [
              "<div>\n",
              "<style scoped>\n",
              "    .dataframe tbody tr th:only-of-type {\n",
              "        vertical-align: middle;\n",
              "    }\n",
              "\n",
              "    .dataframe tbody tr th {\n",
              "        vertical-align: top;\n",
              "    }\n",
              "\n",
              "    .dataframe thead th {\n",
              "        text-align: right;\n",
              "    }\n",
              "</style>\n",
              "<table border=\"1\" class=\"dataframe\">\n",
              "  <thead>\n",
              "    <tr style=\"text-align: right;\">\n",
              "      <th></th>\n",
              "      <th>GDP per capita</th>\n",
              "      <th>Life satisfaction</th>\n",
              "    </tr>\n",
              "    <tr>\n",
              "      <th>Country</th>\n",
              "      <th></th>\n",
              "      <th></th>\n",
              "    </tr>\n",
              "  </thead>\n",
              "  <tbody>\n",
              "    <tr>\n",
              "      <th>Colombia</th>\n",
              "      <td>5207.238</td>\n",
              "      <td>6.3</td>\n",
              "    </tr>\n",
              "    <tr>\n",
              "      <th>Brazil</th>\n",
              "      <td>6450.451</td>\n",
              "      <td>6.4</td>\n",
              "    </tr>\n",
              "    <tr>\n",
              "      <th>Mexico</th>\n",
              "      <td>8069.104</td>\n",
              "      <td>6.5</td>\n",
              "    </tr>\n",
              "    <tr>\n",
              "      <th>Chile</th>\n",
              "      <td>12612.322</td>\n",
              "      <td>6.5</td>\n",
              "    </tr>\n",
              "    <tr>\n",
              "      <th>Ireland</th>\n",
              "      <td>79668.502</td>\n",
              "      <td>7.0</td>\n",
              "    </tr>\n",
              "    <tr>\n",
              "      <th>Switzerland</th>\n",
              "      <td>81867.462</td>\n",
              "      <td>7.5</td>\n",
              "    </tr>\n",
              "    <tr>\n",
              "      <th>Luxembourg</th>\n",
              "      <td>109602.322</td>\n",
              "      <td>6.9</td>\n",
              "    </tr>\n",
              "  </tbody>\n",
              "</table>\n",
              "</div>"
            ],
            "text/plain": [
              "             GDP per capita  Life satisfaction\n",
              "Country                                       \n",
              "Colombia           5207.238                6.3\n",
              "Brazil             6450.451                6.4\n",
              "Mexico             8069.104                6.5\n",
              "Chile             12612.322                6.5\n",
              "Ireland           79668.502                7.0\n",
              "Switzerland       81867.462                7.5\n",
              "Luxembourg       109602.322                6.9"
            ]
          },
          "metadata": {
            "tags": []
          },
          "execution_count": 16
        }
      ]
    },
    {
      "cell_type": "markdown",
      "metadata": {
        "id": "oL7E1EecSbkf"
      },
      "source": [
        "7개의 국가들을 아래 도표에서 표기할 때 사용할 좌표이다."
      ]
    },
    {
      "cell_type": "code",
      "metadata": {
        "id": "JlALYsm8meOd"
      },
      "source": [
        "position_text2 = {\n",
        "    \"Colombia\": (1000, 9.0),\n",
        "    \"Brazil\": (15000, 9.0),\n",
        "    \"Mexico\": (16000, 8.0),\n",
        "    \"Chile\": (34000, 9.0),\n",
        "    \"Ireland\": (60000, 3),\n",
        "    \"Switzerland\": (72000, 3.0),\n",
        "    \"Luxembourg\": (100000, 3.0),\n",
        "}"
      ],
      "execution_count": null,
      "outputs": []
    },
    {
      "cell_type": "markdown",
      "metadata": {
        "id": "mbamOwtFSkYF"
      },
      "source": [
        "7개의 국가를 제외했을 때와 포함했을 때의 훈련 결과를 비교해본다. 7개의 국가를 포함하니 기존의 직선과는 많이 달라진 것을 보아 1인당 GDP와 삶의 만족도 사이의 관계를 선형 모델로 표현하는 것은 적절하지 않은 것으로 보인다."
      ]
    },
    {
      "cell_type": "code",
      "metadata": {
        "colab": {
          "base_uri": "https://localhost:8080/",
          "height": 237
        },
        "id": "CZ4EBh7zm26V",
        "outputId": "6a1545a1-55f9-48fe-a334-03b4ead6dad7"
      },
      "source": [
        "# 7개 국가를 제외한 국가들의 산점도 (파랑색 점)\n",
        "sample_data.plot(kind='scatter', x=\"GDP per capita\", y='Life satisfaction', figsize=(8,3))\n",
        "plt.axis([0, 120000, 0, 10])\n",
        "\n",
        "# 7개 국가 산점도(빨강 점)\n",
        "for country, pos_text in position_text2.items():\n",
        "    pos_data_x, pos_data_y = missing_data.loc[country]\n",
        "    # 7개 국가명 표기\n",
        "    plt.annotate(country, xy=(pos_data_x, pos_data_y), xytext=pos_text,\n",
        "            arrowprops=dict(facecolor='black', width=0.5, shrink=0.1, headwidth=5))\n",
        "    plt.plot(pos_data_x, pos_data_y, \"rs\")\n",
        "\n",
        "# 7개 국가 제외 예측 선형 모델 그래프 (파랑 점선)\n",
        "X=np.linspace(0, 120000, 1000)\n",
        "plt.plot(X, t0 + t1*X, \"b:\")\n",
        "\n",
        "# 7개 국가 포함 선형회귀 모델 훈련 및 예측\n",
        "lin_reg_full = linear_model.LinearRegression()\n",
        "Xfull = np.c_[full_country_stats[\"GDP per capita\"]]\n",
        "yfull = np.c_[full_country_stats[\"Life satisfaction\"]]\n",
        "lin_reg_full.fit(Xfull, yfull)\n",
        "\n",
        "# 7개 국가 포함 예측 선형 모델 그래프(검정 실선)\n",
        "t0full, t1full = lin_reg_full.intercept_[0], lin_reg_full.coef_[0][0]\n",
        "X = np.linspace(0, 120000, 1000)\n",
        "plt.plot(X, t0full + t1full * X, \"k\")\n",
        "plt.xlabel(\"GDP per capita (USD)\")\n",
        "\n",
        "plt.show()"
      ],
      "execution_count": null,
      "outputs": [
        {
          "output_type": "display_data",
          "data": {
            "image/png": "[encoded data removed]",
            "text/plain": [
              "<Figure size 576x216 with 1 Axes>"
            ]
          },
          "metadata": {
            "tags": [],
            "needs_background": "light"
          }
        }
      ]
    },
    {
      "cell_type": "markdown",
      "metadata": {
        "id": "meaLQmmsZxF2"
      },
      "source": [
        "##과대적합"
      ]
    },
    {
      "cell_type": "markdown",
      "metadata": {
        "id": "s-gDWJn4Ukm7"
      },
      "source": [
        "훈련된 모델이 훈련데이터에는 너무나도 잘 맞지만 새로운 데이터에 대해서는 잘 작동하지 않을 때 해당 모델이 훈련데이터에 __과대적합__되었다고 말한다.   \n",
        "예를 들어서 위에서 살펴봤듯이 1인당 GDP와 삶의 만족도의 관계를 선형 모델로 표현하는 것은 적절하지 않아보였다. 그래서 아래 도표와 같이 고차항 다항 회귀로 표현하면 해당 데이터에는 매우 적절해 보이지만 새로운 데이터가 들어오면 엉뚱한 결과를 예측할 것이다."
      ]
    },
    {
      "cell_type": "code",
      "metadata": {
        "colab": {
          "base_uri": "https://localhost:8080/",
          "height": 273
        },
        "id": "-WgaA86Fm7My",
        "outputId": "72766002-0f51-4178-d8d4-d87cc421067d"
      },
      "source": [
        "full_country_stats.plot(kind='scatter', x=\"GDP per capita\", y='Life satisfaction', figsize=(8,3))\n",
        "plt.axis([0, 120000, 0, 10])\n",
        "\n",
        "from sklearn import preprocessing\n",
        "from sklearn import pipeline\n",
        "\n",
        "poly = preprocessing.PolynomialFeatures(degree=60, include_bias=False)\n",
        "scaler = preprocessing.StandardScaler()\n",
        "lin_reg2 = linear_model.LinearRegression()\n",
        "\n",
        "pipeline_reg = pipeline.Pipeline([('poly', poly), ('scal', scaler), ('lin', lin_reg2)])\n",
        "pipeline_reg.fit(Xfull, yfull)\n",
        "curve = pipeline_reg.predict(X[:, np.newaxis])\n",
        "plt.plot(X, curve)\n",
        "plt.xlabel(\"GDP per capita (USD)\")\n",
        "plt.show()"
      ],
      "execution_count": null,
      "outputs": [
        {
          "output_type": "stream",
          "text": [
            "/usr/local/lib/python3.7/dist-packages/numpy/lib/nanfunctions.py:1544: RuntimeWarning: overflow encountered in multiply\n",
            "  sqr = np.multiply(arr, arr, out=arr)\n"
          ],
          "name": "stderr"
        },
        {
          "output_type": "display_data",
          "data": {
            "image/png": "[encoded data removed]",
            "text/plain": [
              "<Figure size 576x216 with 1 Axes>"
            ]
          },
          "metadata": {
            "tags": [],
            "needs_background": "light"
          }
        }
      ]
    },
    {
      "cell_type": "markdown",
      "metadata": {
        "id": "bW4GiXEBVJkZ"
      },
      "source": [
        "훈련 세트에 잡음이 많거나 양이 충분하지 않으면 별로 상관 없는 특성을 이용하여 훈련을 시도할 수도 있다. 아래 코드에서 볼 수 있듯이 국가 이름에 W가 포함돼있으면 삶의 만족도가 높은 편이다."
      ]
    },
    {
      "cell_type": "code",
      "metadata": {
        "colab": {
          "base_uri": "https://localhost:8080/"
        },
        "id": "liSpcdHtoHdU",
        "outputId": "4d9811cd-a0cf-4f6b-d4ad-419f38f3ac8d"
      },
      "source": [
        "full_country_stats.loc[[c for c in full_country_stats.index if \"W\" in c.upper()]][\"Life satisfaction\"]"
      ],
      "execution_count": null,
      "outputs": [
        {
          "output_type": "execute_result",
          "data": {
            "text/plain": [
              "Country\n",
              "New Zealand    7.3\n",
              "Sweden         7.3\n",
              "Norway         7.6\n",
              "Switzerland    7.5\n",
              "Name: Life satisfaction, dtype: float64"
            ]
          },
          "metadata": {
            "tags": []
          },
          "execution_count": 20
        }
      ]
    },
    {
      "cell_type": "markdown",
      "metadata": {
        "id": "vNWkNy3kVftx"
      },
      "source": [
        "하지만 W가 국가명에 포함돼있는 나라가 모두 삶의 만족도가 높다고 할 수 없다. 아래에서 볼 수 있듯이 W가 포함돼 있지만 1인당 GDP가 매우 낮은 나라도 있는 것이 보인다. "
      ]
    },
    {
      "cell_type": "code",
      "metadata": {
        "colab": {
          "base_uri": "https://localhost:8080/",
          "height": 235
        },
        "id": "VRhYN4YqoUwq",
        "outputId": "9d6012a0-903c-4fcc-8ece-f2e9801329f4"
      },
      "source": [
        "#gdp_per_capita에 float 타입이 섞여있어서 upper와 for문이 동작하지 않아 타입을 구분할 수 있도록 type(c)==str을 사용\n",
        "gdp_per_capita.loc[[c for c in gdp_per_capita.index if type(c)==str and \"W\" in c.upper()]].head()"
      ],
      "execution_count": null,
      "outputs": [
        {
          "output_type": "execute_result",
          "data": {
            "text/html": [
              "<div>\n",
              "<style scoped>\n",
              "    .dataframe tbody tr th:only-of-type {\n",
              "        vertical-align: middle;\n",
              "    }\n",
              "\n",
              "    .dataframe tbody tr th {\n",
              "        vertical-align: top;\n",
              "    }\n",
              "\n",
              "    .dataframe thead th {\n",
              "        text-align: right;\n",
              "    }\n",
              "</style>\n",
              "<table border=\"1\" class=\"dataframe\">\n",
              "  <thead>\n",
              "    <tr style=\"text-align: right;\">\n",
              "      <th></th>\n",
              "      <th>Subject Descriptor</th>\n",
              "      <th>Units</th>\n",
              "      <th>Scale</th>\n",
              "      <th>Country/Series-specific Notes</th>\n",
              "      <th>GDP per capita</th>\n",
              "      <th>Estimates Start After</th>\n",
              "    </tr>\n",
              "    <tr>\n",
              "      <th>Country</th>\n",
              "      <th></th>\n",
              "      <th></th>\n",
              "      <th></th>\n",
              "      <th></th>\n",
              "      <th></th>\n",
              "      <th></th>\n",
              "    </tr>\n",
              "  </thead>\n",
              "  <tbody>\n",
              "    <tr>\n",
              "      <th>Botswana</th>\n",
              "      <td>Gross domestic product per capita, current prices</td>\n",
              "      <td>U.S. dollars</td>\n",
              "      <td>Units</td>\n",
              "      <td>See notes for:  Gross domestic product, curren...</td>\n",
              "      <td>6557.505</td>\n",
              "      <td>2017.0</td>\n",
              "    </tr>\n",
              "    <tr>\n",
              "      <th>Eswatini</th>\n",
              "      <td>Gross domestic product per capita, current prices</td>\n",
              "      <td>U.S. dollars</td>\n",
              "      <td>Units</td>\n",
              "      <td>See notes for:  Gross domestic product, curren...</td>\n",
              "      <td>3414.805</td>\n",
              "      <td>2017.0</td>\n",
              "    </tr>\n",
              "    <tr>\n",
              "      <th>Kuwait</th>\n",
              "      <td>Gross domestic product per capita, current prices</td>\n",
              "      <td>U.S. dollars</td>\n",
              "      <td>Units</td>\n",
              "      <td>See notes for:  Gross domestic product, curren...</td>\n",
              "      <td>22252.431</td>\n",
              "      <td>2018.0</td>\n",
              "    </tr>\n",
              "    <tr>\n",
              "      <th>Malawi</th>\n",
              "      <td>Gross domestic product per capita, current prices</td>\n",
              "      <td>U.S. dollars</td>\n",
              "      <td>Units</td>\n",
              "      <td>See notes for:  Gross domestic product, curren...</td>\n",
              "      <td>399.097</td>\n",
              "      <td>2011.0</td>\n",
              "    </tr>\n",
              "    <tr>\n",
              "      <th>New Zealand</th>\n",
              "      <td>Gross domestic product per capita, current prices</td>\n",
              "      <td>U.S. dollars</td>\n",
              "      <td>Units</td>\n",
              "      <td>See notes for:  Gross domestic product, curren...</td>\n",
              "      <td>38675.319</td>\n",
              "      <td>2019.0</td>\n",
              "    </tr>\n",
              "  </tbody>\n",
              "</table>\n",
              "</div>"
            ],
            "text/plain": [
              "                                            Subject Descriptor  ... Estimates Start After\n",
              "Country                                                         ...                      \n",
              "Botswana     Gross domestic product per capita, current prices  ...                2017.0\n",
              "Eswatini     Gross domestic product per capita, current prices  ...                2017.0\n",
              "Kuwait       Gross domestic product per capita, current prices  ...                2018.0\n",
              "Malawi       Gross domestic product per capita, current prices  ...                2011.0\n",
              "New Zealand  Gross domestic product per capita, current prices  ...                2019.0\n",
              "\n",
              "[5 rows x 6 columns]"
            ]
          },
          "metadata": {
            "tags": []
          },
          "execution_count": 21
        }
      ]
    },
    {
      "cell_type": "markdown",
      "metadata": {
        "id": "Hjaa8WVEZ1xj"
      },
      "source": [
        "##모델 규제"
      ]
    },
    {
      "cell_type": "markdown",
      "metadata": {
        "id": "GR2a1VHXWJw8"
      },
      "source": [
        "과대적합의 위험을 감소 시키기 위해 모델에 제약을 가하는 것을 __규제__라고 한다.   \n",
        "- 빨강 파선: 7개 국가 포함 예측 선형 모델   \n",
        "- 파랑 점선: 7개 국가 제외 예측 선형 모델   \n",
        "- 파랑 실선: 7개 국가 제외 규제 적용 예측 선형 모델   \n",
        "\n",
        "규제는 릿지(Ridge)를 사용했다. 7개의 국가를 제외하고도 규제를 가하면 7개의 국가를 포함했을 때와 차이가 줄어든 것을 볼 수 있다."
      ]
    },
    {
      "cell_type": "code",
      "metadata": {
        "colab": {
          "base_uri": "https://localhost:8080/",
          "height": 237
        },
        "id": "bTtQ-utpoeCd",
        "outputId": "decb07e7-cdee-4f87-d3e5-2ac3600f1e2c"
      },
      "source": [
        "plt.figure(figsize=(8,3))\n",
        "\n",
        "plt.xlabel(\"GDP per capita\")\n",
        "plt.ylabel('Life satisfaction')\n",
        "\n",
        "# 7개 국가 제외 데이터 산점도(파랑 동그라미)\n",
        "plt.plot(list(sample_data[\"GDP per capita\"]), list(sample_data[\"Life satisfaction\"]), \"bo\")\n",
        "# 제외된 7개 국가 산점도(빨강 네모)\n",
        "plt.plot(list(missing_data[\"GDP per capita\"]), list(missing_data[\"Life satisfaction\"]), \"rs\")\n",
        "\n",
        "# 7개 국가 포함 예측 선형 모델 그래프(빨강 파선)\n",
        "X = np.linspace(0, 120000, 1000)\n",
        "plt.plot(X, t0full + t1full * X, \"r--\", label=\"Linear model on all data\")\n",
        "# 7개 국가 제외 예측 선형 모델 그래프(파랑 점선)\n",
        "plt.plot(X, t0 + t1*X, \"b:\", label=\"Linear model on partial data\")\n",
        "\n",
        "# 릿지(Ridge) 규제 적용 훈련: 7개 국가 제외 데이터 대상\n",
        "ridge = linear_model.Ridge(alpha=10**9.5)\n",
        "Xsample = np.c_[sample_data[\"GDP per capita\"]]\n",
        "ysample = np.c_[sample_data[\"Life satisfaction\"]]\n",
        "ridge.fit(Xsample, ysample)\n",
        "# 릿지 규제 적용 예측 선형 모델 그래프(파랑 실선)\n",
        "t0ridge, t1ridge = ridge.intercept_[0], ridge.coef_[0][0]\n",
        "plt.plot(X, t0ridge + t1ridge * X, \"b\", label=\"Regularized linear model on partial data\")\n",
        "\n",
        "plt.legend(loc=\"lower right\")\n",
        "plt.axis([0, 120000, 0, 10])\n",
        "plt.xlabel(\"GDP per capita (USD)\")\n",
        "plt.show()"
      ],
      "execution_count": null,
      "outputs": [
        {
          "output_type": "display_data",
          "data": {
            "image/png": "[encoded data removed]",
            "text/plain": [
              "<Figure size 576x216 with 1 Axes>"
            ]
          },
          "metadata": {
            "tags": [],
            "needs_background": "light"
          }
        }
      ]
    },
    {
      "cell_type": "markdown",
      "metadata": {
        "id": "qkbRV-w-Z5HN"
      },
      "source": [
        "##사례 기반 학습"
      ]
    },
    {
      "cell_type": "markdown",
      "metadata": {
        "id": "Am63O6hAX5Lz"
      },
      "source": [
        "키프러스 국가의 삶의 만족도를 사례 기반 학습으로 예측하기 위해 1인당 GDP가 키프러스와 가장 가까운 국가들의 삶의 만족도를 활용할 수 있다. 키프러스와 1인당 GDP가 가장 가까운 세 나라는 다음과 같다."
      ]
    },
    {
      "cell_type": "code",
      "metadata": {
        "colab": {
          "base_uri": "https://localhost:8080/",
          "height": 173
        },
        "id": "NBXc1M-1pnPj",
        "outputId": "e782891d-2ff8-469d-eb1d-2be9305a01c6"
      },
      "source": [
        "sample_data[11:14]"
      ],
      "execution_count": null,
      "outputs": [
        {
          "output_type": "execute_result",
          "data": {
            "text/html": [
              "<div>\n",
              "<style scoped>\n",
              "    .dataframe tbody tr th:only-of-type {\n",
              "        vertical-align: middle;\n",
              "    }\n",
              "\n",
              "    .dataframe tbody tr th {\n",
              "        vertical-align: top;\n",
              "    }\n",
              "\n",
              "    .dataframe thead th {\n",
              "        text-align: right;\n",
              "    }\n",
              "</style>\n",
              "<table border=\"1\" class=\"dataframe\">\n",
              "  <thead>\n",
              "    <tr style=\"text-align: right;\">\n",
              "      <th></th>\n",
              "      <th>GDP per capita</th>\n",
              "      <th>Life satisfaction</th>\n",
              "    </tr>\n",
              "    <tr>\n",
              "      <th>Country</th>\n",
              "      <th></th>\n",
              "      <th></th>\n",
              "    </tr>\n",
              "  </thead>\n",
              "  <tbody>\n",
              "    <tr>\n",
              "      <th>Estonia</th>\n",
              "      <td>22985.858</td>\n",
              "      <td>5.7</td>\n",
              "    </tr>\n",
              "    <tr>\n",
              "      <th>Slovenia</th>\n",
              "      <td>25038.792</td>\n",
              "      <td>5.9</td>\n",
              "    </tr>\n",
              "    <tr>\n",
              "      <th>Spain</th>\n",
              "      <td>26831.629</td>\n",
              "      <td>6.3</td>\n",
              "    </tr>\n",
              "  </tbody>\n",
              "</table>\n",
              "</div>"
            ],
            "text/plain": [
              "          GDP per capita  Life satisfaction\n",
              "Country                                    \n",
              "Estonia        22985.858                5.7\n",
              "Slovenia       25038.792                5.9\n",
              "Spain          26831.629                6.3"
            ]
          },
          "metadata": {
            "tags": []
          },
          "execution_count": 23
        }
      ]
    },
    {
      "cell_type": "markdown",
      "metadata": {
        "id": "nWTr0f78YRTv"
      },
      "source": [
        "이 세 나라의 삶의 만족도의 평균을 구하면 약 5.97이 나온다."
      ]
    },
    {
      "cell_type": "code",
      "metadata": {
        "colab": {
          "base_uri": "https://localhost:8080/"
        },
        "id": "OIedPhXNqLAl",
        "outputId": "77a2df11-ce04-47ae-f57e-767846c6246a"
      },
      "source": [
        "(5.7 + 5.9 + 6.3)/3"
      ],
      "execution_count": null,
      "outputs": [
        {
          "output_type": "execute_result",
          "data": {
            "text/plain": [
              "5.966666666666668"
            ]
          },
          "metadata": {
            "tags": []
          },
          "execution_count": 24
        }
      ]
    },
    {
      "cell_type": "markdown",
      "metadata": {
        "id": "Zg-YoAnmYXve"
      },
      "source": [
        "위에서 설명한 알고리즘은 __k-최근접 이웃__이라고 한다. 사이킷런에서 제공하는 k-최근접 이웃 회귀 모델을 적용해도 동일한 결과가 나온다.   \n",
        "`n_neighbors=3` : 예측할 데이터와 가장 가까운 3개의 데이터를 이용한다는 의미"
      ]
    },
    {
      "cell_type": "code",
      "metadata": {
        "colab": {
          "base_uri": "https://localhost:8080/"
        },
        "id": "Huz8_fXSqk1H",
        "outputId": "e1fa2ab6-26f9-47ad-cd42-673ebbbd066a"
      },
      "source": [
        "import sklearn.neighbors\n",
        "model = sklearn.neighbors.KNeighborsRegressor(n_neighbors=3)\n",
        "\n",
        "X = np.c_[sample_data[\"GDP per capita\"]]\n",
        "y = np.c_[sample_data[\"Life satisfaction\"]]\n",
        "\n",
        "# 모델 훈련\n",
        "model.fit(X, y)\n",
        "\n",
        "# 키프러스 국가에 대한 예측하기\n",
        "X_new = np.array([[26240.048]])  # Cyprus' GDP per capita\n",
        "print(model.predict(X_new)) # outputs [[5.966666666666668]]"
      ],
      "execution_count": null,
      "outputs": [
        {
          "output_type": "stream",
          "text": [
            "[[5.96666667]]\n"
          ],
          "name": "stdout"
        }
      ]
    }
  ]
}